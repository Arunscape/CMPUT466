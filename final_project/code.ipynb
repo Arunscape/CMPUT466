{
 "cells": [
  {
   "cell_type": "markdown",
   "metadata": {},
   "source": [
    "# CMPUT 466 Final Project\n",
    "Arun Woosaree\n",
    "\n",
    "I will be doing binary classification with 3 different algorithms to detect spam in emails"
   ]
  },
  {
   "cell_type": "code",
   "execution_count": null,
   "metadata": {},
   "outputs": [],
   "source": [
    "%%bash\n",
    "pipenv install\n",
    "kaggle datasets download -d uciml/sms-spam-collection-dataset\n",
    "unzip -f sms-spam-collection-dataset.zip"
   ]
  },
  {
   "cell_type": "code",
   "execution_count": 1,
   "metadata": {},
   "outputs": [],
   "source": [
    "import numpy as np\n",
    "import pandas as pd\n",
    "import matplotlib.pyplot as plt\n",
    "from sklearn.model_selection import train_test_split\n",
    "from sklearn.pipeline import Pipeline\n"
   ]
  },
  {
   "cell_type": "code",
   "execution_count": 2,
   "metadata": {},
   "outputs": [
    {
     "data": {
      "text/html": [
       "<div>\n",
       "<style scoped>\n",
       "    .dataframe tbody tr th:only-of-type {\n",
       "        vertical-align: middle;\n",
       "    }\n",
       "\n",
       "    .dataframe tbody tr th {\n",
       "        vertical-align: top;\n",
       "    }\n",
       "\n",
       "    .dataframe thead th {\n",
       "        text-align: right;\n",
       "    }\n",
       "</style>\n",
       "<table border=\"1\" class=\"dataframe\">\n",
       "  <thead>\n",
       "    <tr style=\"text-align: right;\">\n",
       "      <th></th>\n",
       "      <th>v1</th>\n",
       "      <th>v2</th>\n",
       "      <th>Unnamed: 2</th>\n",
       "      <th>Unnamed: 3</th>\n",
       "      <th>Unnamed: 4</th>\n",
       "    </tr>\n",
       "  </thead>\n",
       "  <tbody>\n",
       "    <tr>\n",
       "      <th>0</th>\n",
       "      <td>ham</td>\n",
       "      <td>Go until jurong point, crazy.. Available only ...</td>\n",
       "      <td>NaN</td>\n",
       "      <td>NaN</td>\n",
       "      <td>NaN</td>\n",
       "    </tr>\n",
       "    <tr>\n",
       "      <th>1</th>\n",
       "      <td>ham</td>\n",
       "      <td>Ok lar... Joking wif u oni...</td>\n",
       "      <td>NaN</td>\n",
       "      <td>NaN</td>\n",
       "      <td>NaN</td>\n",
       "    </tr>\n",
       "    <tr>\n",
       "      <th>2</th>\n",
       "      <td>spam</td>\n",
       "      <td>Free entry in 2 a wkly comp to win FA Cup fina...</td>\n",
       "      <td>NaN</td>\n",
       "      <td>NaN</td>\n",
       "      <td>NaN</td>\n",
       "    </tr>\n",
       "    <tr>\n",
       "      <th>3</th>\n",
       "      <td>ham</td>\n",
       "      <td>U dun say so early hor... U c already then say...</td>\n",
       "      <td>NaN</td>\n",
       "      <td>NaN</td>\n",
       "      <td>NaN</td>\n",
       "    </tr>\n",
       "    <tr>\n",
       "      <th>4</th>\n",
       "      <td>ham</td>\n",
       "      <td>Nah I don't think he goes to usf, he lives aro...</td>\n",
       "      <td>NaN</td>\n",
       "      <td>NaN</td>\n",
       "      <td>NaN</td>\n",
       "    </tr>\n",
       "  </tbody>\n",
       "</table>\n",
       "</div>"
      ],
      "text/plain": [
       "     v1                                                 v2 Unnamed: 2  \\\n",
       "0   ham  Go until jurong point, crazy.. Available only ...        NaN   \n",
       "1   ham                      Ok lar... Joking wif u oni...        NaN   \n",
       "2  spam  Free entry in 2 a wkly comp to win FA Cup fina...        NaN   \n",
       "3   ham  U dun say so early hor... U c already then say...        NaN   \n",
       "4   ham  Nah I don't think he goes to usf, he lives aro...        NaN   \n",
       "\n",
       "  Unnamed: 3 Unnamed: 4  \n",
       "0        NaN        NaN  \n",
       "1        NaN        NaN  \n",
       "2        NaN        NaN  \n",
       "3        NaN        NaN  \n",
       "4        NaN        NaN  "
      ]
     },
     "execution_count": 2,
     "metadata": {},
     "output_type": "execute_result"
    }
   ],
   "source": [
    "data = pd.read_csv('spam.csv', encoding='latin-1')\n",
    "data.head()"
   ]
  },
  {
   "cell_type": "code",
   "execution_count": 3,
   "metadata": {},
   "outputs": [
    {
     "data": {
      "text/html": [
       "<div>\n",
       "<style scoped>\n",
       "    .dataframe tbody tr th:only-of-type {\n",
       "        vertical-align: middle;\n",
       "    }\n",
       "\n",
       "    .dataframe tbody tr th {\n",
       "        vertical-align: top;\n",
       "    }\n",
       "\n",
       "    .dataframe thead th {\n",
       "        text-align: right;\n",
       "    }\n",
       "</style>\n",
       "<table border=\"1\" class=\"dataframe\">\n",
       "  <thead>\n",
       "    <tr style=\"text-align: right;\">\n",
       "      <th></th>\n",
       "      <th>label</th>\n",
       "      <th>text</th>\n",
       "    </tr>\n",
       "  </thead>\n",
       "  <tbody>\n",
       "    <tr>\n",
       "      <th>0</th>\n",
       "      <td>0</td>\n",
       "      <td>Go until jurong point, crazy.. Available only ...</td>\n",
       "    </tr>\n",
       "    <tr>\n",
       "      <th>1</th>\n",
       "      <td>0</td>\n",
       "      <td>Ok lar... Joking wif u oni...</td>\n",
       "    </tr>\n",
       "    <tr>\n",
       "      <th>2</th>\n",
       "      <td>1</td>\n",
       "      <td>Free entry in 2 a wkly comp to win FA Cup fina...</td>\n",
       "    </tr>\n",
       "    <tr>\n",
       "      <th>3</th>\n",
       "      <td>0</td>\n",
       "      <td>U dun say so early hor... U c already then say...</td>\n",
       "    </tr>\n",
       "    <tr>\n",
       "      <th>4</th>\n",
       "      <td>0</td>\n",
       "      <td>Nah I don't think he goes to usf, he lives aro...</td>\n",
       "    </tr>\n",
       "  </tbody>\n",
       "</table>\n",
       "</div>"
      ],
      "text/plain": [
       "   label                                               text\n",
       "0      0  Go until jurong point, crazy.. Available only ...\n",
       "1      0                      Ok lar... Joking wif u oni...\n",
       "2      1  Free entry in 2 a wkly comp to win FA Cup fina...\n",
       "3      0  U dun say so early hor... U c already then say...\n",
       "4      0  Nah I don't think he goes to usf, he lives aro..."
      ]
     },
     "execution_count": 3,
     "metadata": {},
     "output_type": "execute_result"
    }
   ],
   "source": [
    "# drop the useless columns and rename spam: 1 ham: 0\n",
    "data.drop(['Unnamed: 2','Unnamed: 3','Unnamed: 4'], axis=1, inplace=True)\n",
    "data.rename(columns={\"v1\": \"label\", \"v2\": \"text\"}, inplace=True)\n",
    "data.replace({'spam': 1, 'ham': 0}, inplace=True)\n",
    "data.head()"
   ]
  },
  {
   "cell_type": "code",
   "execution_count": 4,
   "metadata": {},
   "outputs": [
    {
     "data": {
      "image/png": "[encoded data removed]",
      "text/plain": [
       "<Figure size 432x288 with 1 Axes>"
      ]
     },
     "metadata": {
      "needs_background": "light"
     },
     "output_type": "display_data"
    }
   ],
   "source": [
    "num = pd.value_counts(data['label'],sort=True).sort_index()\n",
    "num.plot(kind='bar')\n",
    "plt.title('Number of Messages in Dataset')\n",
    "plt.xticks((0, 1), (\"Legitimate\", \"Spam\"), rotation=0)\n",
    "plt.ylabel('Count')\n",
    "# plt.show()\n",
    "plt.savefig(\"images/histogram.png\")"
   ]
  },
  {
   "cell_type": "code",
   "execution_count": 5,
   "metadata": {},
   "outputs": [
    {
     "name": "stdout",
     "output_type": "stream",
     "text": [
      "Trivial classifier: all Legitimate accuracy: 0.8659368269921034\n"
     ]
    }
   ],
   "source": [
    "\n",
    "from sklearn.metrics import accuracy_score\n",
    "from sklearn.feature_extraction.text import TfidfVectorizer, CountVectorizer, TfidfTransformer\n",
    "from sklearn.model_selection import GridSearchCV\n",
    "\n",
    "X = TfidfVectorizer().fit_transform(data['text']).toarray()\n",
    "t = data[\"label\"]\n",
    "print(f\"Trivial classifier: all Legitimate accuracy: {accuracy_score(t, np.zeros_like(t))}\")\n",
    "\n"
   ]
  },
  {
   "cell_type": "code",
   "execution_count": 6,
   "metadata": {},
   "outputs": [],
   "source": [
    "from sklearn.model_selection import learning_curve, validation_curve, cross_val_score\n",
    "\n",
    "# https://scikit-learn.org/stable/auto_examples/model_selection/plot_learning_curve.html?highlight=validation%20curve\n",
    "# https://www.dataquest.io/blog/learning-curves-machine-learning/\n",
    "# https://jakevdp.github.io/PythonDataScienceHandbook/05.03-hyperparameters-and-model-validation.html\n",
    "\n",
    "\n",
    "# https://scikit-learn.org/stable/auto_examples/text/plot_document_classification_20newsgroups.html#sphx-glr-auto-examples-text-plot-document-classification-20newsgroups-py\n"
   ]
  },
  {
   "cell_type": "markdown",
   "metadata": {},
   "source": [
    "## Linear Classification\n",
    "using sklearn"
   ]
  },
  {
   "cell_type": "code",
   "execution_count": 36,
   "metadata": {},
   "outputs": [
    {
     "data": {
      "text/plain": [
       "{'copy_X': True,\n",
       " 'fit_intercept': True,\n",
       " 'n_jobs': None,\n",
       " 'normalize': 'deprecated',\n",
       " 'positive': False}"
      ]
     },
     "execution_count": 36,
     "metadata": {},
     "output_type": "execute_result"
    }
   ],
   "source": [
    "from sklearn.linear_model import LinearRegression\n",
    "lr = LinearRegression()\n",
    "lr.get_params()\n",
    "# train_scores, valid_scores = validation_curve(LinearRegression(), X, t, param_name=\"normalize\", param_range=(True, False), n_jobs=-1)\n",
    "# plot_learning_curve(LinearRegression(), \"Linear Regression\", X, t, n_jobs=-1)"
   ]
  },
  {
   "cell_type": "code",
   "execution_count": 37,
   "metadata": {},
   "outputs": [
    {
     "name": "stdout",
     "output_type": "stream",
     "text": [
      "[-5.65040355e+21 -9.81418293e+20 -1.09032680e+22 -3.09887233e+22\n",
      " -7.25340690e+22]\n"
     ]
    },
    {
     "data": {
      "text/plain": [
       "'Mean accuracy: -2.4211576427659913e+22'"
      ]
     },
     "execution_count": 37,
     "metadata": {},
     "output_type": "execute_result"
    }
   ],
   "source": [
    "# from sklearn.metrics import make_scorer\n",
    "accuracies = cross_val_score(lr, X, t, n_jobs=-1)\n",
    "print(accuracies)\n",
    "f\"Mean accuracy: {np.mean(accuracies)}\""
   ]
  },
  {
   "cell_type": "markdown",
   "metadata": {},
   "source": [
    "## Logistic regression\n"
   ]
  },
  {
   "cell_type": "code",
   "execution_count": 24,
   "metadata": {},
   "outputs": [
    {
     "data": {
      "text/plain": [
       "{'C': 1.0,\n",
       " 'class_weight': None,\n",
       " 'dual': False,\n",
       " 'fit_intercept': True,\n",
       " 'intercept_scaling': 1,\n",
       " 'l1_ratio': None,\n",
       " 'max_iter': 100,\n",
       " 'multi_class': 'auto',\n",
       " 'n_jobs': None,\n",
       " 'penalty': 'l2',\n",
       " 'random_state': None,\n",
       " 'solver': 'lbfgs',\n",
       " 'tol': 0.0001,\n",
       " 'verbose': 0,\n",
       " 'warm_start': False}"
      ]
     },
     "execution_count": 24,
     "metadata": {},
     "output_type": "execute_result"
    }
   ],
   "source": [
    "from sklearn.linear_model import LogisticRegression\n",
    "# train_scores, valid_scores = validation_curve(LogisticRegression(), X, t, param_name=\"penalty\", param_range=('l1',), n_jobs=-1)\n",
    "# plot_learning_curve(LogisticRegression(), \"Logistic Regression\", X, t, n_jobs=-1)\n",
    "lgr = LogisticRegression()\n",
    "lgr.get_params()"
   ]
  },
  {
   "cell_type": "code",
   "execution_count": 25,
   "metadata": {},
   "outputs": [
    {
     "name": "stdout",
     "output_type": "stream",
     "text": [
      "[0.96143498 0.96233184 0.96140036 0.95691203 0.96319569]\n"
     ]
    },
    {
     "data": {
      "text/plain": [
       "'Mean accuracy: 0.9610549790276224'"
      ]
     },
     "execution_count": 25,
     "metadata": {},
     "output_type": "execute_result"
    }
   ],
   "source": [
    "accuracies = cross_val_score(lgr, X, t, scoring=\"accuracy\", n_jobs=-1)\n",
    "print(accuracies)\n",
    "f\"Mean accuracy: {np.mean(accuracies)}\""
   ]
  },
  {
   "cell_type": "code",
   "execution_count": 33,
   "metadata": {},
   "outputs": [
    {
     "name": "stdout",
     "output_type": "stream",
     "text": [
      "Fitting 5 folds for each of 20 candidates, totalling 100 fits\n",
      "[CV 2/5] END ........penalty=l1, solver=newton-cg;, score=nan total time=   3.0s\n",
      "[CV 4/5] END ............penalty=l1, solver=lbfgs;, score=nan total time=   3.0s\n",
      "[CV 1/5] END ........penalty=l1, solver=newton-cg;, score=nan total time=   3.3s\n",
      "[CV 5/5] END ............penalty=l1, solver=lbfgs;, score=nan total time=   3.4s\n",
      "[CV 1/5] END ..............penalty=l1, solver=sag;, score=nan total time=   3.3s\n",
      "[CV 1/5] END ............penalty=l1, solver=lbfgs;, score=nan total time=   3.4s\n",
      "[CV 2/5] END ............penalty=l1, solver=lbfgs;, score=nan total time=   3.4s\n",
      "[CV 3/5] END ........penalty=l1, solver=newton-cg;, score=nan total time=   3.5s\n",
      "[CV 4/5] END ........penalty=l1, solver=newton-cg;, score=nan total time=   3.5s\n",
      "[CV 5/5] END ........penalty=l1, solver=newton-cg;, score=nan total time=   3.5s\n",
      "[CV 3/5] END ............penalty=l1, solver=lbfgs;, score=nan total time=   3.5s\n",
      "[CV 3/5] END ......penalty=l1, solver=liblinear;, score=0.967 total time=   3.7s\n",
      "[CV 1/5] END ......penalty=l1, solver=liblinear;, score=0.966 total time=   4.2s\n",
      "[CV 2/5] END ......penalty=l1, solver=liblinear;, score=0.970 total time=   4.6s\n",
      "[CV 5/5] END ......penalty=l1, solver=liblinear;, score=0.951 total time=   4.7s\n",
      "[CV 4/5] END ......penalty=l1, solver=liblinear;, score=0.951 total time=   4.8s\n",
      "[CV 2/5] END ..............penalty=l1, solver=sag;, score=nan total time=   1.6s\n",
      "[CV 4/5] END ..............penalty=l1, solver=sag;, score=nan total time=   1.9s\n",
      "[CV 3/5] END ..............penalty=l1, solver=sag;, score=nan total time=   2.2s\n",
      "[CV 5/5] END ..............penalty=l1, solver=sag;, score=nan total time=   2.1s\n",
      "[CV 1/5] END ......penalty=l2, solver=liblinear;, score=0.962 total time=   4.4s\n",
      "[CV 3/5] END ..........penalty=l2, solver=lbfgs;, score=0.961 total time=  10.2s\n",
      "[CV 2/5] END ......penalty=l2, solver=liblinear;, score=0.963 total time=   5.1s\n",
      "[CV 1/5] END ..........penalty=l2, solver=lbfgs;, score=0.961 total time=  11.0s\n",
      "[CV 5/5] END ..........penalty=l2, solver=lbfgs;, score=0.963 total time=  10.4s\n",
      "[CV 2/5] END ..........penalty=l2, solver=lbfgs;, score=0.962 total time=  11.7s\n",
      "[CV 4/5] END ..........penalty=l2, solver=lbfgs;, score=0.957 total time=  11.5s\n",
      "[CV 4/5] END ......penalty=l2, solver=liblinear;, score=0.957 total time=   4.0s\n",
      "[CV 3/5] END ......penalty=l2, solver=liblinear;, score=0.961 total time=   4.9s\n",
      "[CV 5/5] END ......penalty=l2, solver=liblinear;, score=0.963 total time=   4.3s\n",
      "[CV 3/5] END ............penalty=l2, solver=sag;, score=0.961 total time=  16.2s\n",
      "[CV 1/5] END ............penalty=l2, solver=sag;, score=0.961 total time=  17.5s\n",
      "[CV 1/5] END ...........penalty=l2, solver=saga;, score=0.961 total time=  14.5s\n",
      "[CV 2/5] END ............penalty=l2, solver=sag;, score=0.962 total time=  18.7s\n",
      "[CV 4/5] END ............penalty=l2, solver=sag;, score=0.957 total time=  16.7s\n",
      "[CV 1/5] END ......penalty=l2, solver=newton-cg;, score=0.961 total time=  34.5s\n",
      "[CV 1/5] END penalty=elasticnet, solver=newton-cg;, score=nan total time=   1.0s\n",
      "[CV 3/5] END ......penalty=l2, solver=newton-cg;, score=0.961 total time=  34.6s\n",
      "[CV 2/5] END ......penalty=l2, solver=newton-cg;, score=0.962 total time=  34.9s\n",
      "[CV 2/5] END penalty=elasticnet, solver=newton-cg;, score=nan total time=   1.3s\n",
      "[CV 3/5] END penalty=elasticnet, solver=newton-cg;, score=nan total time=   1.4s\n",
      "[CV 5/5] END ......penalty=l2, solver=newton-cg;, score=0.963 total time=  35.4s\n",
      "[CV 5/5] END ............penalty=l2, solver=sag;, score=0.963 total time=  19.8s\n",
      "[CV 4/5] END penalty=elasticnet, solver=newton-cg;, score=nan total time=   1.7s\n",
      "[CV 5/5] END penalty=elasticnet, solver=newton-cg;, score=nan total time=   1.3s\n",
      "[CV 4/5] END ......penalty=l2, solver=newton-cg;, score=0.957 total time=  36.5s\n",
      "[CV 2/5] END ....penalty=elasticnet, solver=lbfgs;, score=nan total time=   1.4s\n",
      "[CV 1/5] END ....penalty=elasticnet, solver=lbfgs;, score=nan total time=   1.5s\n",
      "[CV 3/5] END ....penalty=elasticnet, solver=lbfgs;, score=nan total time=   1.3s\n",
      "[CV 4/5] END ....penalty=elasticnet, solver=lbfgs;, score=nan total time=   1.2s\n",
      "[CV 5/5] END ....penalty=elasticnet, solver=lbfgs;, score=nan total time=   1.1s\n",
      "[CV 1/5] END penalty=elasticnet, solver=liblinear;, score=nan total time=   1.2s\n",
      "[CV 4/5] END penalty=elasticnet, solver=liblinear;, score=nan total time=   0.8s\n",
      "[CV 2/5] END penalty=elasticnet, solver=liblinear;, score=nan total time=   1.0s\n",
      "[CV 3/5] END penalty=elasticnet, solver=liblinear;, score=nan total time=   0.9s\n",
      "[CV 5/5] END penalty=elasticnet, solver=liblinear;, score=nan total time=   0.9s\n",
      "[CV 1/5] END ......penalty=elasticnet, solver=sag;, score=nan total time=   1.2s\n",
      "[CV 2/5] END ......penalty=elasticnet, solver=sag;, score=nan total time=   1.1s\n",
      "[CV 3/5] END ......penalty=elasticnet, solver=sag;, score=nan total time=   1.0s\n",
      "[CV 4/5] END ......penalty=elasticnet, solver=sag;, score=nan total time=   0.9s\n",
      "[CV 5/5] END ......penalty=elasticnet, solver=sag;, score=nan total time=   1.5s\n",
      "[CV 1/5] END .....penalty=elasticnet, solver=saga;, score=nan total time=   1.3s\n",
      "[CV 2/5] END .....penalty=elasticnet, solver=saga;, score=nan total time=   1.3s\n",
      "[CV 3/5] END .....penalty=elasticnet, solver=saga;, score=nan total time=   1.1s\n",
      "[CV 4/5] END .....penalty=elasticnet, solver=saga;, score=nan total time=   1.2s\n",
      "[CV 5/5] END .....penalty=elasticnet, solver=saga;, score=nan total time=   1.2s\n",
      "[CV 2/5] END ...........penalty=l2, solver=saga;, score=0.962 total time=  13.2s\n",
      "[CV 3/5] END ...........penalty=l2, solver=saga;, score=0.961 total time=  14.9s\n",
      "[CV 5/5] END ...........penalty=l2, solver=saga;, score=0.963 total time=  14.5s\n",
      "[CV 4/5] END ...........penalty=l2, solver=saga;, score=0.957 total time=  16.5s\n",
      "[CV 1/5] END ........penalty=none, solver=lbfgs;, score=0.986 total time=   9.3s\n",
      "[CV 2/5] END ........penalty=none, solver=lbfgs;, score=0.982 total time=  12.9s\n",
      "[CV 1/5] END ......penalty=none, solver=liblinear;, score=nan total time=   5.1s\n",
      "[CV 2/5] END ......penalty=none, solver=liblinear;, score=nan total time=   5.1s\n",
      "[CV 3/5] END ......penalty=none, solver=liblinear;, score=nan total time=   3.5s\n",
      "[CV 4/5] END ......penalty=none, solver=liblinear;, score=nan total time=   3.9s\n",
      "[CV 5/5] END ......penalty=none, solver=liblinear;, score=nan total time=   4.1s\n",
      "[CV 3/5] END ........penalty=none, solver=lbfgs;, score=0.980 total time=  12.4s\n",
      "[CV 4/5] END ........penalty=none, solver=lbfgs;, score=0.983 total time=  14.4s\n",
      "[CV 5/5] END ........penalty=none, solver=lbfgs;, score=0.981 total time=  14.5s\n"
     ]
    },
    {
     "name": "stderr",
     "output_type": "stream",
     "text": [
      "/home/arunscape/.local/share/virtualenvs/final_project-Td-GkHvP/lib/python3.9/site-packages/sklearn/linear_model/_sag.py:352: ConvergenceWarning: The max_iter was reached which means the coef_ did not converge\n",
      "  warnings.warn(\n"
     ]
    },
    {
     "name": "stdout",
     "output_type": "stream",
     "text": [
      "[CV 1/5] END ...........penalty=l1, solver=saga;, score=0.966 total time= 1.4min\n"
     ]
    },
    {
     "name": "stderr",
     "output_type": "stream",
     "text": [
      "/home/arunscape/.local/share/virtualenvs/final_project-Td-GkHvP/lib/python3.9/site-packages/sklearn/linear_model/_sag.py:352: ConvergenceWarning: The max_iter was reached which means the coef_ did not converge\n",
      "  warnings.warn(\n",
      "/home/arunscape/.local/share/virtualenvs/final_project-Td-GkHvP/lib/python3.9/site-packages/sklearn/linear_model/_sag.py:352: ConvergenceWarning: The max_iter was reached which means the coef_ did not converge\n",
      "  warnings.warn(\n",
      "/home/arunscape/.local/share/virtualenvs/final_project-Td-GkHvP/lib/python3.9/site-packages/sklearn/linear_model/_sag.py:352: ConvergenceWarning: The max_iter was reached which means the coef_ did not converge\n",
      "  warnings.warn(\n"
     ]
    },
    {
     "name": "stdout",
     "output_type": "stream",
     "text": [
      "[CV 2/5] END ...........penalty=l1, solver=saga;, score=0.970 total time= 1.5min\n",
      "[CV 3/5] END ...........penalty=l1, solver=saga;, score=0.967 total time= 1.5min\n"
     ]
    },
    {
     "name": "stderr",
     "output_type": "stream",
     "text": [
      "/home/arunscape/.local/share/virtualenvs/final_project-Td-GkHvP/lib/python3.9/site-packages/sklearn/linear_model/_sag.py:352: ConvergenceWarning: The max_iter was reached which means the coef_ did not converge\n",
      "  warnings.warn(\n"
     ]
    },
    {
     "name": "stdout",
     "output_type": "stream",
     "text": [
      "[CV 4/5] END ...........penalty=l1, solver=saga;, score=0.951 total time= 1.5min\n",
      "[CV 5/5] END ...........penalty=l1, solver=saga;, score=0.951 total time= 1.5min\n",
      "[CV 3/5] END ....penalty=none, solver=newton-cg;, score=0.983 total time=  56.0s\n",
      "[CV 5/5] END ....penalty=none, solver=newton-cg;, score=0.980 total time=  56.1s\n",
      "[CV 4/5] END ....penalty=none, solver=newton-cg;, score=0.983 total time=  57.4s\n",
      "[CV 1/5] END ....penalty=none, solver=newton-cg;, score=0.981 total time=  58.3s\n",
      "[CV 2/5] END ....penalty=none, solver=newton-cg;, score=0.985 total time=  59.0s\n"
     ]
    },
    {
     "name": "stderr",
     "output_type": "stream",
     "text": [
      "/home/arunscape/.local/share/virtualenvs/final_project-Td-GkHvP/lib/python3.9/site-packages/sklearn/linear_model/_sag.py:352: ConvergenceWarning: The max_iter was reached which means the coef_ did not converge\n",
      "  warnings.warn(\n",
      "/home/arunscape/.local/share/virtualenvs/final_project-Td-GkHvP/lib/python3.9/site-packages/sklearn/linear_model/_sag.py:352: ConvergenceWarning: The max_iter was reached which means the coef_ did not converge\n",
      "  warnings.warn(\n",
      "/home/arunscape/.local/share/virtualenvs/final_project-Td-GkHvP/lib/python3.9/site-packages/sklearn/linear_model/_sag.py:352: ConvergenceWarning: The max_iter was reached which means the coef_ did not converge\n",
      "  warnings.warn(\n",
      "/home/arunscape/.local/share/virtualenvs/final_project-Td-GkHvP/lib/python3.9/site-packages/sklearn/linear_model/_sag.py:352: ConvergenceWarning: The max_iter was reached which means the coef_ did not converge\n",
      "  warnings.warn(\n",
      "/home/arunscape/.local/share/virtualenvs/final_project-Td-GkHvP/lib/python3.9/site-packages/sklearn/linear_model/_sag.py:352: ConvergenceWarning: The max_iter was reached which means the coef_ did not converge\n",
      "  warnings.warn(\n"
     ]
    },
    {
     "name": "stdout",
     "output_type": "stream",
     "text": [
      "[CV 1/5] END ..........penalty=none, solver=sag;, score=0.981 total time=  48.9s\n",
      "[CV 5/5] END ..........penalty=none, solver=sag;, score=0.981 total time=  44.2s\n",
      "[CV 2/5] END ..........penalty=none, solver=sag;, score=0.984 total time=  48.2s\n",
      "[CV 3/5] END ..........penalty=none, solver=sag;, score=0.983 total time=  47.7s\n",
      "[CV 4/5] END ..........penalty=none, solver=sag;, score=0.982 total time=  48.5s\n"
     ]
    },
    {
     "name": "stderr",
     "output_type": "stream",
     "text": [
      "/home/arunscape/.local/share/virtualenvs/final_project-Td-GkHvP/lib/python3.9/site-packages/sklearn/linear_model/_sag.py:352: ConvergenceWarning: The max_iter was reached which means the coef_ did not converge\n",
      "  warnings.warn(\n"
     ]
    },
    {
     "name": "stdout",
     "output_type": "stream",
     "text": [
      "[CV 1/5] END .........penalty=none, solver=saga;, score=0.980 total time=  49.0s\n"
     ]
    },
    {
     "name": "stderr",
     "output_type": "stream",
     "text": [
      "/home/arunscape/.local/share/virtualenvs/final_project-Td-GkHvP/lib/python3.9/site-packages/sklearn/linear_model/_sag.py:352: ConvergenceWarning: The max_iter was reached which means the coef_ did not converge\n",
      "  warnings.warn(\n"
     ]
    },
    {
     "name": "stdout",
     "output_type": "stream",
     "text": [
      "[CV 2/5] END .........penalty=none, solver=saga;, score=0.984 total time=  40.2s\n"
     ]
    },
    {
     "name": "stderr",
     "output_type": "stream",
     "text": [
      "/home/arunscape/.local/share/virtualenvs/final_project-Td-GkHvP/lib/python3.9/site-packages/sklearn/linear_model/_sag.py:352: ConvergenceWarning: The max_iter was reached which means the coef_ did not converge\n",
      "  warnings.warn(\n"
     ]
    },
    {
     "name": "stdout",
     "output_type": "stream",
     "text": [
      "[CV 5/5] END .........penalty=none, solver=saga;, score=0.978 total time=  38.6s\n"
     ]
    },
    {
     "name": "stderr",
     "output_type": "stream",
     "text": [
      "/home/arunscape/.local/share/virtualenvs/final_project-Td-GkHvP/lib/python3.9/site-packages/sklearn/linear_model/_sag.py:352: ConvergenceWarning: The max_iter was reached which means the coef_ did not converge\n",
      "  warnings.warn(\n",
      "/home/arunscape/.local/share/virtualenvs/final_project-Td-GkHvP/lib/python3.9/site-packages/sklearn/linear_model/_sag.py:352: ConvergenceWarning: The max_iter was reached which means the coef_ did not converge\n",
      "  warnings.warn(\n"
     ]
    },
    {
     "name": "stdout",
     "output_type": "stream",
     "text": [
      "[CV 3/5] END .........penalty=none, solver=saga;, score=0.983 total time=  40.7s\n",
      "[CV 4/5] END .........penalty=none, solver=saga;, score=0.981 total time=  39.2s\n"
     ]
    },
    {
     "name": "stderr",
     "output_type": "stream",
     "text": [
      "/home/arunscape/.local/share/virtualenvs/final_project-Td-GkHvP/lib/python3.9/site-packages/sklearn/model_selection/_validation.py:372: FitFailedWarning: \n",
      "45 fits failed out of a total of 100.\n",
      "The score on these train-test partitions for these parameters will be set to nan.\n",
      "If these failures are not expected, you can try to debug them by setting error_score='raise'.\n",
      "\n",
      "Below are more details about the failures:\n",
      "--------------------------------------------------------------------------------\n",
      "5 fits failed with the following error:\n",
      "Traceback (most recent call last):\n",
      "  File \"/home/arunscape/.local/share/virtualenvs/final_project-Td-GkHvP/lib/python3.9/site-packages/sklearn/model_selection/_validation.py\", line 681, in _fit_and_score\n",
      "    estimator.fit(X_train, y_train, **fit_params)\n",
      "  File \"/home/arunscape/.local/share/virtualenvs/final_project-Td-GkHvP/lib/python3.9/site-packages/sklearn/linear_model/_logistic.py\", line 1461, in fit\n",
      "    solver = _check_solver(self.solver, self.penalty, self.dual)\n",
      "  File \"/home/arunscape/.local/share/virtualenvs/final_project-Td-GkHvP/lib/python3.9/site-packages/sklearn/linear_model/_logistic.py\", line 447, in _check_solver\n",
      "    raise ValueError(\n",
      "ValueError: Solver newton-cg supports only 'l2' or 'none' penalties, got l1 penalty.\n",
      "\n",
      "--------------------------------------------------------------------------------\n",
      "5 fits failed with the following error:\n",
      "Traceback (most recent call last):\n",
      "  File \"/home/arunscape/.local/share/virtualenvs/final_project-Td-GkHvP/lib/python3.9/site-packages/sklearn/model_selection/_validation.py\", line 681, in _fit_and_score\n",
      "    estimator.fit(X_train, y_train, **fit_params)\n",
      "  File \"/home/arunscape/.local/share/virtualenvs/final_project-Td-GkHvP/lib/python3.9/site-packages/sklearn/linear_model/_logistic.py\", line 1461, in fit\n",
      "    solver = _check_solver(self.solver, self.penalty, self.dual)\n",
      "  File \"/home/arunscape/.local/share/virtualenvs/final_project-Td-GkHvP/lib/python3.9/site-packages/sklearn/linear_model/_logistic.py\", line 447, in _check_solver\n",
      "    raise ValueError(\n",
      "ValueError: Solver lbfgs supports only 'l2' or 'none' penalties, got l1 penalty.\n",
      "\n",
      "--------------------------------------------------------------------------------\n",
      "5 fits failed with the following error:\n",
      "Traceback (most recent call last):\n",
      "  File \"/home/arunscape/.local/share/virtualenvs/final_project-Td-GkHvP/lib/python3.9/site-packages/sklearn/model_selection/_validation.py\", line 681, in _fit_and_score\n",
      "    estimator.fit(X_train, y_train, **fit_params)\n",
      "  File \"/home/arunscape/.local/share/virtualenvs/final_project-Td-GkHvP/lib/python3.9/site-packages/sklearn/linear_model/_logistic.py\", line 1461, in fit\n",
      "    solver = _check_solver(self.solver, self.penalty, self.dual)\n",
      "  File \"/home/arunscape/.local/share/virtualenvs/final_project-Td-GkHvP/lib/python3.9/site-packages/sklearn/linear_model/_logistic.py\", line 447, in _check_solver\n",
      "    raise ValueError(\n",
      "ValueError: Solver sag supports only 'l2' or 'none' penalties, got l1 penalty.\n",
      "\n",
      "--------------------------------------------------------------------------------\n",
      "5 fits failed with the following error:\n",
      "Traceback (most recent call last):\n",
      "  File \"/home/arunscape/.local/share/virtualenvs/final_project-Td-GkHvP/lib/python3.9/site-packages/sklearn/model_selection/_validation.py\", line 681, in _fit_and_score\n",
      "    estimator.fit(X_train, y_train, **fit_params)\n",
      "  File \"/home/arunscape/.local/share/virtualenvs/final_project-Td-GkHvP/lib/python3.9/site-packages/sklearn/linear_model/_logistic.py\", line 1461, in fit\n",
      "    solver = _check_solver(self.solver, self.penalty, self.dual)\n",
      "  File \"/home/arunscape/.local/share/virtualenvs/final_project-Td-GkHvP/lib/python3.9/site-packages/sklearn/linear_model/_logistic.py\", line 447, in _check_solver\n",
      "    raise ValueError(\n",
      "ValueError: Solver newton-cg supports only 'l2' or 'none' penalties, got elasticnet penalty.\n",
      "\n",
      "--------------------------------------------------------------------------------\n",
      "5 fits failed with the following error:\n",
      "Traceback (most recent call last):\n",
      "  File \"/home/arunscape/.local/share/virtualenvs/final_project-Td-GkHvP/lib/python3.9/site-packages/sklearn/model_selection/_validation.py\", line 681, in _fit_and_score\n",
      "    estimator.fit(X_train, y_train, **fit_params)\n",
      "  File \"/home/arunscape/.local/share/virtualenvs/final_project-Td-GkHvP/lib/python3.9/site-packages/sklearn/linear_model/_logistic.py\", line 1461, in fit\n",
      "    solver = _check_solver(self.solver, self.penalty, self.dual)\n",
      "  File \"/home/arunscape/.local/share/virtualenvs/final_project-Td-GkHvP/lib/python3.9/site-packages/sklearn/linear_model/_logistic.py\", line 447, in _check_solver\n",
      "    raise ValueError(\n",
      "ValueError: Solver lbfgs supports only 'l2' or 'none' penalties, got elasticnet penalty.\n",
      "\n",
      "--------------------------------------------------------------------------------\n",
      "5 fits failed with the following error:\n",
      "Traceback (most recent call last):\n",
      "  File \"/home/arunscape/.local/share/virtualenvs/final_project-Td-GkHvP/lib/python3.9/site-packages/sklearn/model_selection/_validation.py\", line 681, in _fit_and_score\n",
      "    estimator.fit(X_train, y_train, **fit_params)\n",
      "  File \"/home/arunscape/.local/share/virtualenvs/final_project-Td-GkHvP/lib/python3.9/site-packages/sklearn/linear_model/_logistic.py\", line 1461, in fit\n",
      "    solver = _check_solver(self.solver, self.penalty, self.dual)\n",
      "  File \"/home/arunscape/.local/share/virtualenvs/final_project-Td-GkHvP/lib/python3.9/site-packages/sklearn/linear_model/_logistic.py\", line 457, in _check_solver\n",
      "    raise ValueError(\n",
      "ValueError: Only 'saga' solver supports elasticnet penalty, got solver=liblinear.\n",
      "\n",
      "--------------------------------------------------------------------------------\n",
      "5 fits failed with the following error:\n",
      "Traceback (most recent call last):\n",
      "  File \"/home/arunscape/.local/share/virtualenvs/final_project-Td-GkHvP/lib/python3.9/site-packages/sklearn/model_selection/_validation.py\", line 681, in _fit_and_score\n",
      "    estimator.fit(X_train, y_train, **fit_params)\n",
      "  File \"/home/arunscape/.local/share/virtualenvs/final_project-Td-GkHvP/lib/python3.9/site-packages/sklearn/linear_model/_logistic.py\", line 1461, in fit\n",
      "    solver = _check_solver(self.solver, self.penalty, self.dual)\n",
      "  File \"/home/arunscape/.local/share/virtualenvs/final_project-Td-GkHvP/lib/python3.9/site-packages/sklearn/linear_model/_logistic.py\", line 447, in _check_solver\n",
      "    raise ValueError(\n",
      "ValueError: Solver sag supports only 'l2' or 'none' penalties, got elasticnet penalty.\n",
      "\n",
      "--------------------------------------------------------------------------------\n",
      "5 fits failed with the following error:\n",
      "Traceback (most recent call last):\n",
      "  File \"/home/arunscape/.local/share/virtualenvs/final_project-Td-GkHvP/lib/python3.9/site-packages/sklearn/model_selection/_validation.py\", line 681, in _fit_and_score\n",
      "    estimator.fit(X_train, y_train, **fit_params)\n",
      "  File \"/home/arunscape/.local/share/virtualenvs/final_project-Td-GkHvP/lib/python3.9/site-packages/sklearn/linear_model/_logistic.py\", line 1471, in fit\n",
      "    raise ValueError(\n",
      "ValueError: l1_ratio must be between 0 and 1; got (l1_ratio=None)\n",
      "\n",
      "--------------------------------------------------------------------------------\n",
      "5 fits failed with the following error:\n",
      "Traceback (most recent call last):\n",
      "  File \"/home/arunscape/.local/share/virtualenvs/final_project-Td-GkHvP/lib/python3.9/site-packages/sklearn/model_selection/_validation.py\", line 681, in _fit_and_score\n",
      "    estimator.fit(X_train, y_train, **fit_params)\n",
      "  File \"/home/arunscape/.local/share/virtualenvs/final_project-Td-GkHvP/lib/python3.9/site-packages/sklearn/linear_model/_logistic.py\", line 1461, in fit\n",
      "    solver = _check_solver(self.solver, self.penalty, self.dual)\n",
      "  File \"/home/arunscape/.local/share/virtualenvs/final_project-Td-GkHvP/lib/python3.9/site-packages/sklearn/linear_model/_logistic.py\", line 464, in _check_solver\n",
      "    raise ValueError(\"penalty='none' is not supported for the liblinear solver\")\n",
      "ValueError: penalty='none' is not supported for the liblinear solver\n",
      "\n",
      "  warnings.warn(some_fits_failed_message, FitFailedWarning)\n",
      "/home/arunscape/.local/share/virtualenvs/final_project-Td-GkHvP/lib/python3.9/site-packages/sklearn/model_selection/_search.py:969: UserWarning: One or more of the test scores are non-finite: [       nan        nan 0.96069382        nan 0.96069382 0.96105498\n",
      " 0.96105498 0.96141372 0.96105498 0.96105498        nan        nan\n",
      "        nan        nan        nan 0.98241186 0.98241154        nan\n",
      " 0.98223249 0.98133499]\n",
      "  warnings.warn(\n"
     ]
    },
    {
     "name": "stdout",
     "output_type": "stream",
     "text": [
      "best score 0.9824118636835706\n",
      "best params {'penalty': 'none', 'solver': 'newton-cg'}\n"
     ]
    }
   ],
   "source": [
    "params = {\n",
    "    'solver': ('newton-cg', 'lbfgs', 'liblinear', 'sag', 'saga'),\n",
    "    'penalty': ('l1', 'l2', 'elasticnet', 'none'),\n",
    "}\n",
    "lg_gs = GridSearchCV(lgr, params, n_jobs=-1, verbose=4)\n",
    "lg_gs = lg_gs.fit(X, t)\n",
    "print(\"best score\", lg_gs.best_score_)\n",
    "print(\"best params\", lg_gs.best_params_)"
   ]
  },
  {
   "cell_type": "code",
   "execution_count": 7,
   "metadata": {},
   "outputs": [
    {
     "data": {
      "text/plain": [
       "{'alpha': 1.0, 'class_prior': None, 'fit_prior': True}"
      ]
     },
     "execution_count": 7,
     "metadata": {},
     "output_type": "execute_result"
    }
   ],
   "source": [
    "from sklearn.naive_bayes import MultinomialNB\n",
    "# train_scores, valid_scores = validation_curve(MultinomialNB(), X, t, param_name=\"fit_prior\", param_range=(True,), n_jobs=-1)\n",
    "nb = MultinomialNB()\n",
    "nb.get_params()\n",
    "# plot_learning_curve(MultinomialNB(), \"Multinomial Naive Bayes\", X, t, n_jobs=-1)"
   ]
  },
  {
   "cell_type": "code",
   "execution_count": 8,
   "metadata": {},
   "outputs": [
    {
     "name": "stdout",
     "output_type": "stream",
     "text": [
      "[0.9632287  0.95515695 0.95780969 0.9551167  0.96229803]\n"
     ]
    },
    {
     "data": {
      "text/plain": [
       "'Mean accuracy: 0.9587220133482541'"
      ]
     },
     "execution_count": 8,
     "metadata": {},
     "output_type": "execute_result"
    }
   ],
   "source": [
    "accuracies = cross_val_score(nb, X, t, scoring=\"accuracy\", n_jobs=-1)\n",
    "print(accuracies)\n",
    "f\"Mean accuracy: {np.mean(accuracies)}\""
   ]
  },
  {
   "cell_type": "code",
   "execution_count": 9,
   "metadata": {},
   "outputs": [
    {
     "data": {
      "text/plain": [
       "{'alpha': 0.0001,\n",
       " 'class_weight': None,\n",
       " 'early_stopping': False,\n",
       " 'eta0': 1.0,\n",
       " 'fit_intercept': True,\n",
       " 'l1_ratio': 0.15,\n",
       " 'max_iter': 1000,\n",
       " 'n_iter_no_change': 5,\n",
       " 'n_jobs': None,\n",
       " 'penalty': None,\n",
       " 'random_state': 0,\n",
       " 'shuffle': True,\n",
       " 'tol': 0.001,\n",
       " 'validation_fraction': 0.1,\n",
       " 'verbose': 0,\n",
       " 'warm_start': False}"
      ]
     },
     "execution_count": 9,
     "metadata": {},
     "output_type": "execute_result"
    }
   ],
   "source": [
    "from sklearn.linear_model import Perceptron\n",
    "p = Perceptron()\n",
    "p.get_params()"
   ]
  },
  {
   "cell_type": "code",
   "execution_count": 10,
   "metadata": {},
   "outputs": [
    {
     "name": "stdout",
     "output_type": "stream",
     "text": [
      "[0.98116592 0.98116592 0.98204668 0.98025135 0.97935368]\n"
     ]
    },
    {
     "data": {
      "text/plain": [
       "'Mean accuracy: 0.9807967088261103'"
      ]
     },
     "execution_count": 10,
     "metadata": {},
     "output_type": "execute_result"
    }
   ],
   "source": [
    "accuracies = cross_val_score(p, X, t, scoring=\"accuracy\", n_jobs=-1)\n",
    "print(accuracies)\n",
    "f\"Mean accuracy: {np.mean(accuracies)}\""
   ]
  },
  {
   "cell_type": "code",
   "execution_count": 20,
   "metadata": {},
   "outputs": [
    {
     "name": "stdout",
     "output_type": "stream",
     "text": [
      "Fitting 5 folds for each of 12 candidates, totalling 60 fits\n",
      "[CV 5/5] END ..........max_iter=500, penalty=l2;, score=0.969 total time=   3.5s\n",
      "[CV 1/5] END ..........max_iter=500, penalty=l2;, score=0.971 total time=   3.7s\n",
      "[CV 1/5] END ........max_iter=500, penalty=none;, score=0.981 total time=   3.7s\n",
      "[CV 4/5] END ..........max_iter=500, penalty=l2;, score=0.954 total time=   4.1s\n",
      "[CV 2/5] END ..........max_iter=500, penalty=l2;, score=0.962 total time=   4.2s\n",
      "[CV 3/5] END ..........max_iter=500, penalty=l2;, score=0.966 total time=   4.7s\n",
      "[CV 3/5] END ..max_iter=500, penalty=elasticnet;, score=0.955 total time=   4.9s\n",
      "[CV 2/5] END ........max_iter=500, penalty=none;, score=0.981 total time=   1.4s\n",
      "[CV 2/5] END ..........max_iter=500, penalty=l1;, score=0.976 total time=   5.5s\n",
      "[CV 3/5] END ..........max_iter=500, penalty=l1;, score=0.965 total time=   5.7s\n",
      "[CV 5/5] END ..max_iter=500, penalty=elasticnet;, score=0.963 total time=   5.8s\n",
      "[CV 4/5] END ..........max_iter=500, penalty=l1;, score=0.967 total time=   5.9s\n",
      "[CV 3/5] END ........max_iter=500, penalty=none;, score=0.982 total time=   2.2s\n",
      "[CV 2/5] END ..max_iter=500, penalty=elasticnet;, score=0.969 total time=   6.2s\n",
      "[CV 4/5] END ..max_iter=500, penalty=elasticnet;, score=0.959 total time=   6.2s\n",
      "[CV 1/5] END ..max_iter=500, penalty=elasticnet;, score=0.963 total time=   6.6s\n",
      "[CV 1/5] END ..........max_iter=500, penalty=l1;, score=0.965 total time=   6.8s\n",
      "[CV 5/5] END ..........max_iter=500, penalty=l1;, score=0.965 total time=   7.0s\n",
      "[CV 4/5] END ........max_iter=500, penalty=none;, score=0.980 total time=   3.3s\n",
      "[CV 5/5] END ........max_iter=500, penalty=none;, score=0.979 total time=   3.7s\n",
      "[CV 1/5] END .........max_iter=1000, penalty=l1;, score=0.965 total time=   5.5s\n",
      "[CV 2/5] END .........max_iter=1000, penalty=l1;, score=0.976 total time=   4.9s\n",
      "[CV 3/5] END .........max_iter=1000, penalty=l1;, score=0.965 total time=   5.2s\n",
      "[CV 1/5] END .........max_iter=1000, penalty=l2;, score=0.971 total time=   4.8s\n",
      "[CV 5/5] END .........max_iter=1000, penalty=l2;, score=0.969 total time=   4.8s\n",
      "[CV 2/5] END .........max_iter=1000, penalty=l2;, score=0.962 total time=   5.3s\n",
      "[CV 1/5] END .......max_iter=1000, penalty=none;, score=0.981 total time=   3.3s\n",
      "[CV 4/5] END .........max_iter=1000, penalty=l2;, score=0.954 total time=   5.2s\n",
      "[CV 3/5] END .........max_iter=1000, penalty=l2;, score=0.966 total time=   5.3s\n",
      "[CV 2/5] END .......max_iter=1000, penalty=none;, score=0.981 total time=   2.2s\n",
      "[CV 4/5] END .........max_iter=1000, penalty=l1;, score=0.967 total time=   7.0s\n",
      "[CV 3/5] END .......max_iter=1000, penalty=none;, score=0.982 total time=   2.5s\n",
      "[CV 3/5] END .max_iter=1000, penalty=elasticnet;, score=0.955 total time=   5.7s\n",
      "[CV 5/5] END .........max_iter=1000, penalty=l1;, score=0.965 total time=   7.3s\n",
      "[CV 4/5] END .max_iter=1000, penalty=elasticnet;, score=0.959 total time=   6.2s\n",
      "[CV 4/5] END .......max_iter=1000, penalty=none;, score=0.980 total time=   2.9s\n",
      "[CV 2/5] END .max_iter=1000, penalty=elasticnet;, score=0.969 total time=   6.8s\n",
      "[CV 5/5] END .max_iter=1000, penalty=elasticnet;, score=0.963 total time=   6.2s\n",
      "[CV 5/5] END .......max_iter=1000, penalty=none;, score=0.979 total time=   2.8s\n",
      "[CV 1/5] END .max_iter=1000, penalty=elasticnet;, score=0.963 total time=   7.8s\n",
      "[CV 2/5] END .........max_iter=2000, penalty=l2;, score=0.962 total time=   3.7s\n",
      "[CV 1/5] END .........max_iter=2000, penalty=l2;, score=0.971 total time=   3.8s\n",
      "[CV 2/5] END .........max_iter=2000, penalty=l1;, score=0.976 total time=   4.6s\n",
      "[CV 1/5] END .........max_iter=2000, penalty=l1;, score=0.965 total time=   5.1s\n",
      "[CV 4/5] END .........max_iter=2000, penalty=l2;, score=0.954 total time=   3.9s\n",
      "[CV 3/5] END .........max_iter=2000, penalty=l1;, score=0.965 total time=   5.3s\n",
      "[CV 4/5] END .........max_iter=2000, penalty=l1;, score=0.967 total time=   5.6s\n",
      "[CV 3/5] END .........max_iter=2000, penalty=l2;, score=0.966 total time=   4.9s\n",
      "[CV 5/5] END .........max_iter=2000, penalty=l1;, score=0.965 total time=   6.2s\n",
      "[CV 5/5] END .........max_iter=2000, penalty=l2;, score=0.969 total time=   4.8s\n",
      "[CV 1/5] END .......max_iter=2000, penalty=none;, score=0.981 total time=   3.9s\n",
      "[CV 3/5] END .max_iter=2000, penalty=elasticnet;, score=0.955 total time=   4.5s\n",
      "[CV 4/5] END .......max_iter=2000, penalty=none;, score=0.980 total time=   2.1s\n",
      "[CV 2/5] END .......max_iter=2000, penalty=none;, score=0.981 total time=   2.2s\n",
      "[CV 3/5] END .......max_iter=2000, penalty=none;, score=0.982 total time=   2.2s\n",
      "[CV 5/5] END .......max_iter=2000, penalty=none;, score=0.979 total time=   1.7s\n",
      "[CV 4/5] END .max_iter=2000, penalty=elasticnet;, score=0.959 total time=   4.9s\n",
      "[CV 2/5] END .max_iter=2000, penalty=elasticnet;, score=0.969 total time=   5.2s\n",
      "[CV 5/5] END .max_iter=2000, penalty=elasticnet;, score=0.963 total time=   5.0s\n",
      "[CV 1/5] END .max_iter=2000, penalty=elasticnet;, score=0.963 total time=   5.5s\n",
      "best score 0.9807967088261103\n",
      "best params {'max_iter': 500, 'penalty': 'none'}\n"
     ]
    }
   ],
   "source": [
    "params = {\n",
    "    'penalty': ('l1', 'l2', 'elasticnet', 'none'),\n",
    "    'max_iter': (500, 1000, 2000)\n",
    "}\n",
    "p_gs = GridSearchCV(p, params, n_jobs=-1, verbose=4, scoring=\"accuracy\")\n",
    "p_gs = p_gs.fit(X, t)\n",
    "print(\"best score\", p_gs.best_score_)\n",
    "print(\"best params\", p_gs.best_params_)"
   ]
  },
  {
   "cell_type": "code",
   "execution_count": 21,
   "metadata": {},
   "outputs": [
    {
     "data": {
      "text/plain": [
       "{'activation': 'relu',\n",
       " 'alpha': 0.0001,\n",
       " 'batch_size': 'auto',\n",
       " 'beta_1': 0.9,\n",
       " 'beta_2': 0.999,\n",
       " 'early_stopping': False,\n",
       " 'epsilon': 1e-08,\n",
       " 'hidden_layer_sizes': (100,),\n",
       " 'learning_rate': 'constant',\n",
       " 'learning_rate_init': 0.001,\n",
       " 'max_fun': 15000,\n",
       " 'max_iter': 200,\n",
       " 'momentum': 0.9,\n",
       " 'n_iter_no_change': 10,\n",
       " 'nesterovs_momentum': True,\n",
       " 'power_t': 0.5,\n",
       " 'random_state': None,\n",
       " 'shuffle': True,\n",
       " 'solver': 'adam',\n",
       " 'tol': 0.0001,\n",
       " 'validation_fraction': 0.1,\n",
       " 'verbose': False,\n",
       " 'warm_start': False}"
      ]
     },
     "execution_count": 21,
     "metadata": {},
     "output_type": "execute_result"
    }
   ],
   "source": [
    "from sklearn.neural_network import MLPClassifier\n",
    "# train_scores, valid_scores = validation_curve(MLPClassifier(), X, t, param_name=\"solver\", param_range=('lbfgs', 'sgd', 'adam'), n_jobs=-1)\n",
    "# plot_learning_curve(MLPClassifier(), \"Multilayer Perceptron\", X, t, n_jobs=-1)\n",
    "mlp = MLPClassifier()\n",
    "mlp.get_params()"
   ]
  },
  {
   "cell_type": "code",
   "execution_count": 22,
   "metadata": {},
   "outputs": [
    {
     "name": "stdout",
     "output_type": "stream",
     "text": [
      "[0.98744395 0.98565022 0.98294434 0.98384201 0.98384201]\n"
     ]
    },
    {
     "data": {
      "text/plain": [
       "'Mean accuracy: 0.9847445073302687'"
      ]
     },
     "execution_count": 22,
     "metadata": {},
     "output_type": "execute_result"
    }
   ],
   "source": [
    "accuracies = cross_val_score(mlp, X, t, scoring=\"accuracy\", n_jobs=-1)\n",
    "print(accuracies)\n",
    "f\"Mean accuracy: {np.mean(accuracies)}\""
   ]
  },
  {
   "cell_type": "code",
   "execution_count": 23,
   "metadata": {},
   "outputs": [
    {
     "name": "stdout",
     "output_type": "stream",
     "text": [
      "Fitting 5 folds for each of 72 candidates, totalling 360 fits\n",
      "[CV 3/5] END activation=relu, hidden_layer_sizes=100, learning_rate=invscaling, max_iter=800;, score=0.983 total time= 6.5min\n",
      "[CV 3/5] END activation=relu, hidden_layer_sizes=100, learning_rate=invscaling, max_iter=1600;, score=0.983 total time= 6.7min\n",
      "[CV 5/5] END activation=relu, hidden_layer_sizes=100, learning_rate=invscaling, max_iter=1600;, score=0.983 total time= 6.9min\n",
      "[CV 1/5] END activation=relu, hidden_layer_sizes=100, learning_rate=invscaling, max_iter=800;, score=0.987 total time= 6.9min\n",
      "[CV 4/5] END activation=relu, hidden_layer_sizes=100, learning_rate=invscaling, max_iter=1600;, score=0.982 total time= 7.0min\n",
      "[CV 2/5] END activation=relu, hidden_layer_sizes=100, learning_rate=invscaling, max_iter=1600;, score=0.985 total time= 7.0min\n",
      "[CV 4/5] END activation=relu, hidden_layer_sizes=100, learning_rate=invscaling, max_iter=400;, score=0.983 total time= 7.0min\n",
      "[CV 1/5] END activation=relu, hidden_layer_sizes=100, learning_rate=adaptive, max_iter=400;, score=0.987 total time= 7.1min\n",
      "[CV 4/5] END activation=relu, hidden_layer_sizes=100, learning_rate=invscaling, max_iter=800;, score=0.984 total time= 7.1min\n",
      "[CV 5/5] END activation=relu, hidden_layer_sizes=100, learning_rate=invscaling, max_iter=800;, score=0.983 total time= 7.1min\n",
      "[CV 5/5] END activation=relu, hidden_layer_sizes=100, learning_rate=invscaling, max_iter=400;, score=0.985 total time= 7.1min\n",
      "[CV 2/5] END activation=relu, hidden_layer_sizes=100, learning_rate=invscaling, max_iter=800;, score=0.986 total time= 7.1min\n",
      "[CV 2/5] END activation=relu, hidden_layer_sizes=100, learning_rate=invscaling, max_iter=400;, score=0.984 total time= 7.1min\n",
      "[CV 1/5] END activation=relu, hidden_layer_sizes=100, learning_rate=invscaling, max_iter=400;, score=0.987 total time= 7.1min\n",
      "[CV 1/5] END activation=relu, hidden_layer_sizes=100, learning_rate=invscaling, max_iter=1600;, score=0.987 total time= 7.1min\n",
      "[CV 3/5] END activation=relu, hidden_layer_sizes=100, learning_rate=invscaling, max_iter=400;, score=0.983 total time= 7.1min\n",
      "[CV 1/5] END activation=relu, hidden_layer_sizes=(100, 50, 25), learning_rate=invscaling, max_iter=400;, score=0.989 total time= 3.7min\n",
      "[CV 2/5] END activation=relu, hidden_layer_sizes=(100, 50, 25), learning_rate=invscaling, max_iter=400;, score=0.987 total time= 3.7min\n",
      "[CV 3/5] END activation=relu, hidden_layer_sizes=100, learning_rate=adaptive, max_iter=400;, score=0.983 total time= 6.5min\n",
      "[CV 4/5] END activation=relu, hidden_layer_sizes=100, learning_rate=adaptive, max_iter=400;, score=0.983 total time= 6.4min\n",
      "[CV 5/5] END activation=relu, hidden_layer_sizes=100, learning_rate=adaptive, max_iter=400;, score=0.984 total time= 6.3min\n",
      "[CV 3/5] END activation=relu, hidden_layer_sizes=100, learning_rate=adaptive, max_iter=800;, score=0.983 total time= 6.3min\n",
      "[CV 2/5] END activation=relu, hidden_layer_sizes=100, learning_rate=adaptive, max_iter=800;, score=0.985 total time= 6.4min\n",
      "[CV 2/5] END activation=relu, hidden_layer_sizes=100, learning_rate=adaptive, max_iter=400;, score=0.986 total time= 6.8min\n",
      "[CV 1/5] END activation=relu, hidden_layer_sizes=100, learning_rate=adaptive, max_iter=800;, score=0.987 total time= 6.5min\n",
      "[CV 4/5] END activation=relu, hidden_layer_sizes=100, learning_rate=adaptive, max_iter=800;, score=0.983 total time= 6.5min\n",
      "[CV 5/5] END activation=relu, hidden_layer_sizes=100, learning_rate=adaptive, max_iter=1600;, score=0.984 total time= 6.5min\n",
      "[CV 5/5] END activation=relu, hidden_layer_sizes=100, learning_rate=adaptive, max_iter=800;, score=0.984 total time= 6.5min\n",
      "[CV 3/5] END activation=relu, hidden_layer_sizes=100, learning_rate=adaptive, max_iter=1600;, score=0.982 total time= 6.5min\n",
      "[CV 4/5] END activation=relu, hidden_layer_sizes=100, learning_rate=adaptive, max_iter=1600;, score=0.984 total time= 6.5min\n",
      "[CV 2/5] END activation=relu, hidden_layer_sizes=100, learning_rate=adaptive, max_iter=1600;, score=0.986 total time= 6.5min\n",
      "[CV 1/5] END activation=relu, hidden_layer_sizes=100, learning_rate=adaptive, max_iter=1600;, score=0.986 total time= 6.7min\n",
      "[CV 3/5] END activation=relu, hidden_layer_sizes=(100, 50, 25), learning_rate=invscaling, max_iter=400;, score=0.984 total time= 3.2min\n",
      "[CV 4/5] END activation=relu, hidden_layer_sizes=(100, 50, 25), learning_rate=invscaling, max_iter=400;, score=0.984 total time= 3.3min\n",
      "[CV 3/5] END activation=relu, hidden_layer_sizes=(100, 50, 25), learning_rate=invscaling, max_iter=800;, score=0.982 total time= 2.9min\n",
      "[CV 5/5] END activation=relu, hidden_layer_sizes=(100, 50, 25), learning_rate=invscaling, max_iter=400;, score=0.985 total time= 3.4min\n",
      "[CV 1/5] END activation=relu, hidden_layer_sizes=(100, 50, 25), learning_rate=invscaling, max_iter=800;, score=0.989 total time= 3.5min\n",
      "[CV 5/5] END activation=relu, hidden_layer_sizes=(100, 50, 25), learning_rate=invscaling, max_iter=800;, score=0.984 total time= 3.3min\n",
      "[CV 5/5] END activation=relu, hidden_layer_sizes=(100, 50, 25), learning_rate=invscaling, max_iter=1600;, score=0.984 total time= 3.3min\n",
      "[CV 3/5] END activation=relu, hidden_layer_sizes=(100, 50, 25), learning_rate=invscaling, max_iter=1600;, score=0.982 total time= 3.3min\n",
      "[CV 4/5] END activation=relu, hidden_layer_sizes=(100, 50, 25), learning_rate=invscaling, max_iter=800;, score=0.983 total time= 3.4min\n",
      "[CV 4/5] END activation=relu, hidden_layer_sizes=(100, 50, 25), learning_rate=invscaling, max_iter=1600;, score=0.984 total time= 3.4min\n",
      "[CV 3/5] END activation=relu, hidden_layer_sizes=(100, 50, 25), learning_rate=adaptive, max_iter=400;, score=0.982 total time= 3.2min\n",
      "[CV 2/5] END activation=relu, hidden_layer_sizes=(100, 50, 25), learning_rate=invscaling, max_iter=800;, score=0.986 total time= 3.7min\n",
      "[CV 1/5] END activation=relu, hidden_layer_sizes=(100, 50, 25), learning_rate=adaptive, max_iter=400;, score=0.987 total time= 3.5min\n",
      "[CV 2/5] END activation=relu, hidden_layer_sizes=(100, 50, 25), learning_rate=adaptive, max_iter=400;, score=0.987 total time= 3.5min\n",
      "[CV 2/5] END activation=relu, hidden_layer_sizes=(100, 50, 25), learning_rate=invscaling, max_iter=1600;, score=0.987 total time= 3.6min\n",
      "[CV 1/5] END activation=relu, hidden_layer_sizes=(100, 50, 25), learning_rate=invscaling, max_iter=1600;, score=0.990 total time= 3.6min\n",
      "[CV 4/5] END activation=relu, hidden_layer_sizes=(100, 50, 25), learning_rate=adaptive, max_iter=400;, score=0.984 total time= 3.3min\n",
      "[CV 5/5] END activation=relu, hidden_layer_sizes=(100, 50, 25), learning_rate=adaptive, max_iter=400;, score=0.986 total time= 3.3min\n",
      "[CV 1/5] END activation=relu, hidden_layer_sizes=(100, 50, 25), learning_rate=adaptive, max_iter=800;, score=0.989 total time= 3.2min\n",
      "[CV 3/5] END activation=relu, hidden_layer_sizes=(100, 50, 25), learning_rate=adaptive, max_iter=800;, score=0.982 total time= 3.1min\n",
      "[CV 3/5] END activation=relu, hidden_layer_sizes=(100, 50, 25), learning_rate=adaptive, max_iter=1600;, score=0.982 total time= 3.0min\n",
      "[CV 5/5] END activation=relu, hidden_layer_sizes=(100, 50, 25), learning_rate=adaptive, max_iter=800;, score=0.984 total time= 3.2min\n",
      "[CV 2/5] END activation=relu, hidden_layer_sizes=(100, 50, 25), learning_rate=adaptive, max_iter=1600;, score=0.987 total time= 3.3min\n",
      "[CV 4/5] END activation=relu, hidden_layer_sizes=(100, 50, 25), learning_rate=adaptive, max_iter=1600;, score=0.984 total time= 3.3min\n",
      "[CV 1/5] END activation=relu, hidden_layer_sizes=(100, 50, 25), learning_rate=adaptive, max_iter=1600;, score=0.988 total time= 3.4min\n",
      "[CV 2/5] END activation=relu, hidden_layer_sizes=(100, 50, 25), learning_rate=adaptive, max_iter=800;, score=0.987 total time= 3.6min\n",
      "[CV 4/5] END activation=relu, hidden_layer_sizes=(100, 50, 25), learning_rate=adaptive, max_iter=800;, score=0.982 total time= 3.5min\n",
      "[CV 1/5] END activation=relu, hidden_layer_sizes=(100, 80, 60, 40, 20, 10), learning_rate=invscaling, max_iter=400;, score=0.988 total time= 3.3min\n",
      "[CV 5/5] END activation=relu, hidden_layer_sizes=(100, 80, 60, 40, 20, 10), learning_rate=invscaling, max_iter=400;, score=0.985 total time= 3.0min\n",
      "[CV 2/5] END activation=relu, hidden_layer_sizes=(100, 80, 60, 40, 20, 10), learning_rate=invscaling, max_iter=400;, score=0.987 total time= 3.2min\n",
      "[CV 5/5] END activation=relu, hidden_layer_sizes=(100, 50, 25), learning_rate=adaptive, max_iter=1600;, score=0.986 total time= 3.5min\n",
      "[CV 1/5] END activation=relu, hidden_layer_sizes=(100, 80, 60, 40, 20, 10), learning_rate=invscaling, max_iter=800;, score=0.987 total time= 3.2min\n",
      "[CV 2/5] END activation=relu, hidden_layer_sizes=(100, 80, 60, 40, 20, 10), learning_rate=invscaling, max_iter=800;, score=0.983 total time= 3.1min\n",
      "[CV 5/5] END activation=relu, hidden_layer_sizes=(100, 80, 60, 40, 20, 10), learning_rate=invscaling, max_iter=800;, score=0.982 total time= 2.8min\n",
      "[CV 4/5] END activation=relu, hidden_layer_sizes=(100, 80, 60, 40, 20, 10), learning_rate=invscaling, max_iter=1600;, score=0.983 total time= 2.8min\n",
      "[CV 3/5] END activation=relu, hidden_layer_sizes=(100, 80, 60, 40, 20, 10), learning_rate=invscaling, max_iter=1600;, score=0.983 total time= 3.1min\n",
      "[CV 5/5] END activation=relu, hidden_layer_sizes=(100, 80, 60, 40, 20, 10), learning_rate=invscaling, max_iter=1600;, score=0.983 total time= 3.1min\n",
      "[CV 1/5] END activation=relu, hidden_layer_sizes=(100, 80, 60, 40, 20, 10), learning_rate=invscaling, max_iter=1600;, score=0.988 total time= 3.2min\n",
      "[CV 1/5] END activation=relu, hidden_layer_sizes=(100, 80, 60, 40, 20, 10), learning_rate=adaptive, max_iter=400;, score=0.987 total time= 3.3min\n",
      "[CV 4/5] END activation=relu, hidden_layer_sizes=(100, 80, 60, 40, 20, 10), learning_rate=invscaling, max_iter=800;, score=0.984 total time= 3.8min\n",
      "[CV 5/5] END activation=relu, hidden_layer_sizes=(100, 80, 60, 40, 20, 10), learning_rate=adaptive, max_iter=400;, score=0.983 total time= 3.2min\n",
      "[CV 2/5] END activation=relu, hidden_layer_sizes=(100, 80, 60, 40, 20, 10), learning_rate=adaptive, max_iter=400;, score=0.987 total time= 3.4min\n",
      "[CV 4/5] END activation=relu, hidden_layer_sizes=(100, 80, 60, 40, 20, 10), learning_rate=adaptive, max_iter=400;, score=0.984 total time= 3.7min\n",
      "[CV 2/5] END activation=relu, hidden_layer_sizes=(100, 80, 60, 40, 20, 10), learning_rate=invscaling, max_iter=1600;, score=0.983 total time= 3.9min\n",
      "[CV 3/5] END activation=relu, hidden_layer_sizes=(100, 80, 60, 40, 20, 10), learning_rate=adaptive, max_iter=400;, score=0.982 total time= 4.3min\n",
      "[CV 3/5] END activation=relu, hidden_layer_sizes=(100, 80, 60, 40, 20, 10), learning_rate=adaptive, max_iter=800;, score=0.983 total time= 3.2min\n",
      "[CV 1/5] END activation=relu, hidden_layer_sizes=(100, 80, 60, 40, 20, 10), learning_rate=adaptive, max_iter=800;, score=0.989 total time= 3.7min\n",
      "[CV 2/5] END activation=relu, hidden_layer_sizes=(100, 80, 60, 40, 20, 10), learning_rate=adaptive, max_iter=800;, score=0.987 total time= 3.7min\n",
      "[CV 4/5] END activation=relu, hidden_layer_sizes=(100, 80, 60, 40, 20, 10), learning_rate=adaptive, max_iter=800;, score=0.986 total time= 3.2min\n",
      "[CV 1/5] END activation=relu, hidden_layer_sizes=(100, 80, 60, 40, 20, 10), learning_rate=adaptive, max_iter=1600;, score=0.985 total time= 3.3min\n",
      "[CV 2/5] END activation=relu, hidden_layer_sizes=(100, 80, 60, 40, 20, 10), learning_rate=adaptive, max_iter=1600;, score=0.986 total time= 3.2min\n",
      "[CV 5/5] END activation=relu, hidden_layer_sizes=(100, 80, 60, 40, 20, 10), learning_rate=adaptive, max_iter=1600;, score=0.982 total time= 3.2min\n",
      "[CV 3/5] END activation=relu, hidden_layer_sizes=(100, 80, 60, 40, 20, 10), learning_rate=adaptive, max_iter=1600;, score=0.983 total time= 3.2min\n",
      "[CV 4/5] END activation=relu, hidden_layer_sizes=(100, 80, 60, 40, 20, 10), learning_rate=adaptive, max_iter=1600;, score=0.984 total time= 4.2min\n",
      "[CV 2/5] END activation=identity, hidden_layer_sizes=100, learning_rate=invscaling, max_iter=400;, score=0.981 total time= 7.1min\n",
      "[CV 1/5] END activation=identity, hidden_layer_sizes=100, learning_rate=invscaling, max_iter=400;, score=0.985 total time= 7.4min\n",
      "[CV 3/5] END activation=identity, hidden_layer_sizes=100, learning_rate=invscaling, max_iter=400;, score=0.982 total time= 7.1min\n",
      "[CV 4/5] END activation=identity, hidden_layer_sizes=100, learning_rate=invscaling, max_iter=400;, score=0.982 total time= 7.1min\n",
      "[CV 5/5] END activation=identity, hidden_layer_sizes=100, learning_rate=invscaling, max_iter=400;, score=0.982 total time= 7.0min\n",
      "[CV 1/5] END activation=identity, hidden_layer_sizes=100, learning_rate=invscaling, max_iter=800;, score=0.986 total time= 7.0min\n",
      "[CV 3/5] END activation=identity, hidden_layer_sizes=100, learning_rate=invscaling, max_iter=800;, score=0.982 total time= 7.0min\n",
      "[CV 2/5] END activation=identity, hidden_layer_sizes=100, learning_rate=invscaling, max_iter=800;, score=0.983 total time= 7.3min\n",
      "[CV 4/5] END activation=identity, hidden_layer_sizes=100, learning_rate=invscaling, max_iter=800;, score=0.983 total time= 7.1min\n",
      "[CV 1/5] END activation=identity, hidden_layer_sizes=100, learning_rate=invscaling, max_iter=1600;, score=0.986 total time= 7.2min\n",
      "[CV 5/5] END activation=identity, hidden_layer_sizes=100, learning_rate=invscaling, max_iter=800;, score=0.983 total time= 7.4min\n",
      "[CV 2/5] END activation=identity, hidden_layer_sizes=100, learning_rate=invscaling, max_iter=1600;, score=0.983 total time= 7.3min\n",
      "[CV 3/5] END activation=identity, hidden_layer_sizes=100, learning_rate=invscaling, max_iter=1600;, score=0.982 total time= 6.9min\n",
      "[CV 4/5] END activation=identity, hidden_layer_sizes=100, learning_rate=invscaling, max_iter=1600;, score=0.983 total time= 6.8min\n",
      "[CV 5/5] END activation=identity, hidden_layer_sizes=100, learning_rate=invscaling, max_iter=1600;, score=0.982 total time= 7.0min\n",
      "[CV 1/5] END activation=identity, hidden_layer_sizes=100, learning_rate=adaptive, max_iter=400;, score=0.986 total time= 6.8min\n",
      "[CV 3/5] END activation=identity, hidden_layer_sizes=100, learning_rate=adaptive, max_iter=400;, score=0.982 total time= 6.7min\n",
      "[CV 2/5] END activation=identity, hidden_layer_sizes=100, learning_rate=adaptive, max_iter=400;, score=0.983 total time= 6.8min\n",
      "[CV 5/5] END activation=identity, hidden_layer_sizes=100, learning_rate=adaptive, max_iter=400;, score=0.982 total time= 6.7min\n",
      "[CV 4/5] END activation=identity, hidden_layer_sizes=100, learning_rate=adaptive, max_iter=400;, score=0.982 total time= 7.0min\n",
      "[CV 1/5] END activation=identity, hidden_layer_sizes=100, learning_rate=adaptive, max_iter=800;, score=0.986 total time= 6.8min\n",
      "[CV 3/5] END activation=identity, hidden_layer_sizes=100, learning_rate=adaptive, max_iter=800;, score=0.982 total time= 6.7min\n",
      "[CV 4/5] END activation=relu, hidden_layer_sizes=(100, 80, 60, 40, 20, 10), learning_rate=invscaling, max_iter=400;, score=0.866 total time=24.2min\n",
      "[CV 2/5] END activation=identity, hidden_layer_sizes=100, learning_rate=adaptive, max_iter=800;, score=0.982 total time= 7.2min\n",
      "[CV 4/5] END activation=identity, hidden_layer_sizes=100, learning_rate=adaptive, max_iter=800;, score=0.982 total time= 6.8min\n",
      "[CV 1/5] END activation=identity, hidden_layer_sizes=(100, 50, 25), learning_rate=invscaling, max_iter=400;, score=0.987 total time= 3.2min\n",
      "[CV 3/5] END activation=identity, hidden_layer_sizes=(100, 50, 25), learning_rate=invscaling, max_iter=400;, score=0.982 total time= 3.3min\n",
      "[CV 2/5] END activation=identity, hidden_layer_sizes=(100, 50, 25), learning_rate=invscaling, max_iter=400;, score=0.987 total time= 3.3min\n",
      "[CV 5/5] END activation=identity, hidden_layer_sizes=(100, 50, 25), learning_rate=invscaling, max_iter=400;, score=0.985 total time= 3.0min\n",
      "[CV 4/5] END activation=identity, hidden_layer_sizes=(100, 50, 25), learning_rate=invscaling, max_iter=400;, score=0.983 total time= 3.4min\n",
      "[CV 1/5] END activation=identity, hidden_layer_sizes=(100, 50, 25), learning_rate=invscaling, max_iter=800;, score=0.987 total time= 3.3min\n",
      "[CV 5/5] END activation=identity, hidden_layer_sizes=100, learning_rate=adaptive, max_iter=800;, score=0.982 total time= 6.8min\n",
      "[CV 1/5] END activation=identity, hidden_layer_sizes=100, learning_rate=adaptive, max_iter=1600;, score=0.983 total time= 7.0min\n",
      "[CV 2/5] END activation=identity, hidden_layer_sizes=100, learning_rate=adaptive, max_iter=1600;, score=0.982 total time= 7.0min\n",
      "[CV 2/5] END activation=identity, hidden_layer_sizes=(100, 50, 25), learning_rate=invscaling, max_iter=800;, score=0.986 total time= 3.6min\n",
      "[CV 3/5] END activation=relu, hidden_layer_sizes=(100, 80, 60, 40, 20, 10), learning_rate=invscaling, max_iter=400;, score=0.980 total time=29.0min\n",
      "[CV 3/5] END activation=identity, hidden_layer_sizes=(100, 50, 25), learning_rate=invscaling, max_iter=800;, score=0.982 total time= 3.0min\n",
      "[CV 3/5] END activation=identity, hidden_layer_sizes=100, learning_rate=adaptive, max_iter=1600;, score=0.982 total time= 6.7min\n",
      "[CV 5/5] END activation=identity, hidden_layer_sizes=100, learning_rate=adaptive, max_iter=1600;, score=0.982 total time= 6.6min\n",
      "[CV 4/5] END activation=identity, hidden_layer_sizes=100, learning_rate=adaptive, max_iter=1600;, score=0.983 total time= 6.8min\n",
      "[CV 5/5] END activation=identity, hidden_layer_sizes=(100, 50, 25), learning_rate=invscaling, max_iter=800;, score=0.984 total time= 3.1min\n",
      "[CV 1/5] END activation=identity, hidden_layer_sizes=(100, 50, 25), learning_rate=invscaling, max_iter=1600;, score=0.988 total time= 3.2min\n",
      "[CV 4/5] END activation=identity, hidden_layer_sizes=(100, 50, 25), learning_rate=invscaling, max_iter=800;, score=0.984 total time= 3.4min\n",
      "[CV 3/5] END activation=identity, hidden_layer_sizes=(100, 50, 25), learning_rate=invscaling, max_iter=1600;, score=0.982 total time= 3.1min\n",
      "[CV 2/5] END activation=identity, hidden_layer_sizes=(100, 50, 25), learning_rate=invscaling, max_iter=1600;, score=0.985 total time= 3.4min\n",
      "[CV 4/5] END activation=identity, hidden_layer_sizes=(100, 50, 25), learning_rate=invscaling, max_iter=1600;, score=0.983 total time= 3.4min\n",
      "[CV 5/5] END activation=identity, hidden_layer_sizes=(100, 50, 25), learning_rate=invscaling, max_iter=1600;, score=0.983 total time= 3.3min\n",
      "[CV 1/5] END activation=identity, hidden_layer_sizes=(100, 50, 25), learning_rate=adaptive, max_iter=400;, score=0.987 total time= 3.4min\n",
      "[CV 3/5] END activation=identity, hidden_layer_sizes=(100, 50, 25), learning_rate=adaptive, max_iter=400;, score=0.982 total time= 3.3min\n",
      "[CV 2/5] END activation=identity, hidden_layer_sizes=(100, 50, 25), learning_rate=adaptive, max_iter=400;, score=0.986 total time= 3.6min\n",
      "[CV 4/5] END activation=identity, hidden_layer_sizes=(100, 50, 25), learning_rate=adaptive, max_iter=400;, score=0.980 total time= 3.3min\n",
      "[CV 5/5] END activation=identity, hidden_layer_sizes=(100, 50, 25), learning_rate=adaptive, max_iter=400;, score=0.983 total time= 3.2min\n",
      "[CV 1/5] END activation=identity, hidden_layer_sizes=(100, 50, 25), learning_rate=adaptive, max_iter=800;, score=0.987 total time= 3.2min\n",
      "[CV 3/5] END activation=identity, hidden_layer_sizes=(100, 50, 25), learning_rate=adaptive, max_iter=800;, score=0.981 total time= 3.2min\n",
      "[CV 2/5] END activation=identity, hidden_layer_sizes=(100, 50, 25), learning_rate=adaptive, max_iter=800;, score=0.987 total time= 3.5min\n",
      "[CV 5/5] END activation=identity, hidden_layer_sizes=(100, 50, 25), learning_rate=adaptive, max_iter=800;, score=0.984 total time= 3.2min\n",
      "[CV 4/5] END activation=identity, hidden_layer_sizes=(100, 50, 25), learning_rate=adaptive, max_iter=800;, score=0.983 total time= 3.3min\n",
      "[CV 1/5] END activation=identity, hidden_layer_sizes=(100, 50, 25), learning_rate=adaptive, max_iter=1600;, score=0.987 total time= 3.2min\n",
      "[CV 2/5] END activation=identity, hidden_layer_sizes=(100, 50, 25), learning_rate=adaptive, max_iter=1600;, score=0.986 total time= 3.4min\n",
      "[CV 3/5] END activation=identity, hidden_layer_sizes=(100, 50, 25), learning_rate=adaptive, max_iter=1600;, score=0.983 total time= 3.2min\n",
      "[CV 1/5] END activation=identity, hidden_layer_sizes=(100, 80, 60, 40, 20, 10), learning_rate=invscaling, max_iter=400;, score=0.986 total time= 2.5min\n",
      "[CV 4/5] END activation=identity, hidden_layer_sizes=(100, 50, 25), learning_rate=adaptive, max_iter=1600;, score=0.984 total time= 3.4min\n",
      "[CV 2/5] END activation=identity, hidden_layer_sizes=(100, 80, 60, 40, 20, 10), learning_rate=invscaling, max_iter=400;, score=0.986 total time= 2.9min\n",
      "[CV 3/5] END activation=identity, hidden_layer_sizes=(100, 80, 60, 40, 20, 10), learning_rate=invscaling, max_iter=400;, score=0.984 total time= 2.3min\n",
      "[CV 5/5] END activation=identity, hidden_layer_sizes=(100, 50, 25), learning_rate=adaptive, max_iter=1600;, score=0.985 total time= 3.7min\n",
      "[CV 4/5] END activation=identity, hidden_layer_sizes=(100, 80, 60, 40, 20, 10), learning_rate=invscaling, max_iter=400;, score=0.978 total time= 2.7min\n",
      "[CV 5/5] END activation=identity, hidden_layer_sizes=(100, 80, 60, 40, 20, 10), learning_rate=invscaling, max_iter=400;, score=0.984 total time= 2.7min\n",
      "[CV 1/5] END activation=identity, hidden_layer_sizes=(100, 80, 60, 40, 20, 10), learning_rate=invscaling, max_iter=800;, score=0.987 total time= 2.6min\n",
      "[CV 2/5] END activation=identity, hidden_layer_sizes=(100, 80, 60, 40, 20, 10), learning_rate=invscaling, max_iter=800;, score=0.980 total time= 2.7min\n",
      "[CV 3/5] END activation=identity, hidden_layer_sizes=(100, 80, 60, 40, 20, 10), learning_rate=invscaling, max_iter=800;, score=0.982 total time= 2.5min\n",
      "[CV 5/5] END activation=relu, hidden_layer_sizes=(100, 80, 60, 40, 20, 10), learning_rate=adaptive, max_iter=800;, score=0.980 total time=30.1min\n",
      "[CV 4/5] END activation=identity, hidden_layer_sizes=(100, 80, 60, 40, 20, 10), learning_rate=invscaling, max_iter=800;, score=0.982 total time= 2.6min\n",
      "[CV 5/5] END activation=identity, hidden_layer_sizes=(100, 80, 60, 40, 20, 10), learning_rate=invscaling, max_iter=800;, score=0.984 total time= 2.5min\n",
      "[CV 1/5] END activation=identity, hidden_layer_sizes=(100, 80, 60, 40, 20, 10), learning_rate=invscaling, max_iter=1600;, score=0.988 total time= 2.5min\n",
      "[CV 2/5] END activation=identity, hidden_layer_sizes=(100, 80, 60, 40, 20, 10), learning_rate=invscaling, max_iter=1600;, score=0.987 total time= 2.6min\n",
      "[CV 3/5] END activation=identity, hidden_layer_sizes=(100, 80, 60, 40, 20, 10), learning_rate=invscaling, max_iter=1600;, score=0.983 total time= 2.5min\n",
      "[CV 4/5] END activation=identity, hidden_layer_sizes=(100, 80, 60, 40, 20, 10), learning_rate=invscaling, max_iter=1600;, score=0.980 total time= 2.8min\n",
      "[CV 1/5] END activation=identity, hidden_layer_sizes=(100, 80, 60, 40, 20, 10), learning_rate=adaptive, max_iter=400;, score=0.988 total time= 2.6min\n",
      "[CV 5/5] END activation=identity, hidden_layer_sizes=(100, 80, 60, 40, 20, 10), learning_rate=invscaling, max_iter=1600;, score=0.984 total time= 2.9min\n",
      "[CV 3/5] END activation=identity, hidden_layer_sizes=(100, 80, 60, 40, 20, 10), learning_rate=adaptive, max_iter=400;, score=0.981 total time= 2.5min\n",
      "[CV 4/5] END activation=identity, hidden_layer_sizes=(100, 80, 60, 40, 20, 10), learning_rate=adaptive, max_iter=400;, score=0.980 total time= 2.5min\n",
      "[CV 5/5] END activation=identity, hidden_layer_sizes=(100, 80, 60, 40, 20, 10), learning_rate=adaptive, max_iter=400;, score=0.982 total time= 2.5min\n",
      "[CV 1/5] END activation=identity, hidden_layer_sizes=(100, 80, 60, 40, 20, 10), learning_rate=adaptive, max_iter=800;, score=0.987 total time= 2.5min\n",
      "[CV 2/5] END activation=identity, hidden_layer_sizes=(100, 80, 60, 40, 20, 10), learning_rate=adaptive, max_iter=400;, score=0.982 total time= 3.0min\n",
      "[CV 3/5] END activation=identity, hidden_layer_sizes=(100, 80, 60, 40, 20, 10), learning_rate=adaptive, max_iter=800;, score=0.982 total time= 2.7min\n",
      "[CV 2/5] END activation=identity, hidden_layer_sizes=(100, 80, 60, 40, 20, 10), learning_rate=adaptive, max_iter=800;, score=0.985 total time= 2.8min\n",
      "[CV 4/5] END activation=identity, hidden_layer_sizes=(100, 80, 60, 40, 20, 10), learning_rate=adaptive, max_iter=800;, score=0.981 total time= 2.7min\n",
      "[CV 1/5] END activation=identity, hidden_layer_sizes=(100, 80, 60, 40, 20, 10), learning_rate=adaptive, max_iter=1600;, score=0.989 total time= 2.5min\n",
      "[CV 5/5] END activation=identity, hidden_layer_sizes=(100, 80, 60, 40, 20, 10), learning_rate=adaptive, max_iter=800;, score=0.981 total time= 2.7min\n",
      "[CV 3/5] END activation=identity, hidden_layer_sizes=(100, 80, 60, 40, 20, 10), learning_rate=adaptive, max_iter=1600;, score=0.982 total time= 2.5min\n",
      "[CV 2/5] END activation=identity, hidden_layer_sizes=(100, 80, 60, 40, 20, 10), learning_rate=adaptive, max_iter=1600;, score=0.984 total time= 2.8min\n",
      "[CV 5/5] END activation=identity, hidden_layer_sizes=(100, 80, 60, 40, 20, 10), learning_rate=adaptive, max_iter=1600;, score=0.983 total time= 2.6min\n",
      "[CV 4/5] END activation=identity, hidden_layer_sizes=(100, 80, 60, 40, 20, 10), learning_rate=adaptive, max_iter=1600;, score=0.982 total time= 3.0min\n",
      "[CV 3/5] END activation=relu, hidden_layer_sizes=(100, 80, 60, 40, 20, 10), learning_rate=invscaling, max_iter=800;, score=0.971 total time=48.7min\n",
      "[CV 3/5] END activation=logistic, hidden_layer_sizes=100, learning_rate=invscaling, max_iter=800;, score=0.982 total time=12.8min\n",
      "[CV 3/5] END activation=logistic, hidden_layer_sizes=100, learning_rate=invscaling, max_iter=400;, score=0.982 total time=13.4min\n",
      "[CV 2/5] END activation=logistic, hidden_layer_sizes=100, learning_rate=invscaling, max_iter=400;, score=0.984 total time=13.5min\n",
      "[CV 4/5] END activation=logistic, hidden_layer_sizes=100, learning_rate=invscaling, max_iter=400;, score=0.983 total time=13.9min\n",
      "[CV 5/5] END activation=logistic, hidden_layer_sizes=100, learning_rate=invscaling, max_iter=400;, score=0.983 total time=14.8min\n",
      "[CV 5/5] END activation=logistic, hidden_layer_sizes=100, learning_rate=invscaling, max_iter=1600;, score=0.981 total time=13.1min\n",
      "[CV 2/5] END activation=logistic, hidden_layer_sizes=100, learning_rate=invscaling, max_iter=1600;, score=0.984 total time=14.2min\n",
      "[CV 4/5] END activation=logistic, hidden_layer_sizes=100, learning_rate=invscaling, max_iter=800;, score=0.983 total time=15.2min\n",
      "[CV 1/5] END activation=logistic, hidden_layer_sizes=100, learning_rate=invscaling, max_iter=400;, score=0.984 total time=16.3min\n",
      "[CV 5/5] END activation=logistic, hidden_layer_sizes=100, learning_rate=invscaling, max_iter=800;, score=0.982 total time=15.3min\n",
      "[CV 2/5] END activation=logistic, hidden_layer_sizes=100, learning_rate=invscaling, max_iter=800;, score=0.985 total time=15.6min\n",
      "[CV 3/5] END activation=logistic, hidden_layer_sizes=100, learning_rate=invscaling, max_iter=1600;, score=0.982 total time=14.6min\n",
      "[CV 1/5] END activation=logistic, hidden_layer_sizes=100, learning_rate=invscaling, max_iter=1600;, score=0.985 total time=15.9min\n",
      "[CV 1/5] END activation=logistic, hidden_layer_sizes=100, learning_rate=invscaling, max_iter=800;, score=0.984 total time=16.7min\n",
      "[CV 4/5] END activation=logistic, hidden_layer_sizes=100, learning_rate=invscaling, max_iter=1600;, score=0.983 total time=15.1min\n",
      "[CV 1/5] END activation=logistic, hidden_layer_sizes=100, learning_rate=adaptive, max_iter=400;, score=0.985 total time=14.2min\n",
      "[CV 2/5] END activation=logistic, hidden_layer_sizes=100, learning_rate=adaptive, max_iter=400;, score=0.986 total time=15.0min\n",
      "[CV 1/5] END activation=logistic, hidden_layer_sizes=100, learning_rate=adaptive, max_iter=800;, score=0.985 total time=13.6min\n",
      "[CV 5/5] END activation=logistic, hidden_layer_sizes=100, learning_rate=adaptive, max_iter=400;, score=0.982 total time=14.7min\n",
      "[CV 4/5] END activation=logistic, hidden_layer_sizes=100, learning_rate=adaptive, max_iter=400;, score=0.984 total time=15.7min\n",
      "[CV 3/5] END activation=logistic, hidden_layer_sizes=100, learning_rate=adaptive, max_iter=400;, score=0.983 total time=16.1min\n",
      "[CV 2/5] END activation=logistic, hidden_layer_sizes=100, learning_rate=adaptive, max_iter=800;, score=0.985 total time=14.3min\n",
      "[CV 3/5] END activation=logistic, hidden_layer_sizes=100, learning_rate=adaptive, max_iter=1600;, score=0.982 total time=13.6min\n",
      "[CV 1/5] END activation=logistic, hidden_layer_sizes=(100, 50, 25), learning_rate=invscaling, max_iter=400;, score=0.985 total time=12.8min\n",
      "[CV 1/5] END activation=logistic, hidden_layer_sizes=100, learning_rate=adaptive, max_iter=1600;, score=0.985 total time=14.6min\n",
      "[CV 2/5] END activation=logistic, hidden_layer_sizes=100, learning_rate=adaptive, max_iter=1600;, score=0.984 total time=14.7min\n",
      "[CV 5/5] END activation=logistic, hidden_layer_sizes=100, learning_rate=adaptive, max_iter=800;, score=0.982 total time=15.1min\n",
      "[CV 3/5] END activation=logistic, hidden_layer_sizes=100, learning_rate=adaptive, max_iter=800;, score=0.982 total time=15.5min\n",
      "[CV 5/5] END activation=logistic, hidden_layer_sizes=100, learning_rate=adaptive, max_iter=1600;, score=0.982 total time=14.0min\n",
      "[CV 4/5] END activation=logistic, hidden_layer_sizes=100, learning_rate=adaptive, max_iter=800;, score=0.983 total time=15.7min\n",
      "[CV 4/5] END activation=logistic, hidden_layer_sizes=100, learning_rate=adaptive, max_iter=1600;, score=0.983 total time=15.4min\n",
      "[CV 1/5] END activation=logistic, hidden_layer_sizes=(100, 50, 25), learning_rate=invscaling, max_iter=800;, score=0.988 total time= 9.6min\n",
      "[CV 2/5] END activation=logistic, hidden_layer_sizes=(100, 50, 25), learning_rate=invscaling, max_iter=400;, score=0.986 total time=12.0min\n",
      "[CV 3/5] END activation=logistic, hidden_layer_sizes=(100, 50, 25), learning_rate=invscaling, max_iter=800;, score=0.981 total time= 9.8min\n",
      "[CV 5/5] END activation=logistic, hidden_layer_sizes=(100, 50, 25), learning_rate=invscaling, max_iter=400;, score=0.983 total time=11.9min\n",
      "[CV 2/5] END activation=logistic, hidden_layer_sizes=(100, 50, 25), learning_rate=invscaling, max_iter=800;, score=0.987 total time=11.3min\n",
      "[CV 4/5] END activation=logistic, hidden_layer_sizes=(100, 50, 25), learning_rate=invscaling, max_iter=400;, score=0.983 total time=13.6min\n",
      "[CV 2/5] END activation=logistic, hidden_layer_sizes=(100, 50, 25), learning_rate=invscaling, max_iter=1600;, score=0.987 total time=11.5min\n",
      "[CV 4/5] END activation=logistic, hidden_layer_sizes=(100, 50, 25), learning_rate=invscaling, max_iter=800;, score=0.983 total time=12.6min\n",
      "[CV 1/5] END activation=logistic, hidden_layer_sizes=(100, 50, 25), learning_rate=adaptive, max_iter=400;, score=0.987 total time=11.0min\n",
      "[CV 5/5] END activation=logistic, hidden_layer_sizes=(100, 50, 25), learning_rate=invscaling, max_iter=1600;, score=0.983 total time=11.5min\n",
      "[CV 4/5] END activation=logistic, hidden_layer_sizes=(100, 50, 25), learning_rate=invscaling, max_iter=1600;, score=0.983 total time=11.6min\n",
      "[CV 3/5] END activation=logistic, hidden_layer_sizes=(100, 50, 25), learning_rate=invscaling, max_iter=400;, score=0.983 total time=14.3min\n",
      "[CV 3/5] END activation=logistic, hidden_layer_sizes=(100, 50, 25), learning_rate=invscaling, max_iter=1600;, score=0.981 total time=12.8min\n",
      "[CV 5/5] END activation=logistic, hidden_layer_sizes=(100, 50, 25), learning_rate=invscaling, max_iter=800;, score=0.982 total time=13.7min\n",
      "[CV 2/5] END activation=logistic, hidden_layer_sizes=(100, 50, 25), learning_rate=adaptive, max_iter=400;, score=0.987 total time=12.0min\n",
      "[CV 1/5] END activation=logistic, hidden_layer_sizes=(100, 50, 25), learning_rate=invscaling, max_iter=1600;, score=0.986 total time=13.5min\n",
      "[CV 1/5] END activation=logistic, hidden_layer_sizes=(100, 80, 60, 40, 20, 10), learning_rate=invscaling, max_iter=400;, score=0.865 total time= 3.1min\n",
      "[CV 2/5] END activation=logistic, hidden_layer_sizes=(100, 80, 60, 40, 20, 10), learning_rate=invscaling, max_iter=400;, score=0.865 total time= 4.2min\n",
      "[CV 3/5] END activation=logistic, hidden_layer_sizes=(100, 80, 60, 40, 20, 10), learning_rate=invscaling, max_iter=400;, score=0.866 total time= 4.7min\n",
      "[CV 5/5] END activation=logistic, hidden_layer_sizes=(100, 50, 25), learning_rate=adaptive, max_iter=400;, score=0.982 total time=10.7min\n",
      "[CV 4/5] END activation=logistic, hidden_layer_sizes=(100, 80, 60, 40, 20, 10), learning_rate=invscaling, max_iter=400;, score=0.866 total time= 3.5min\n",
      "[CV 5/5] END activation=logistic, hidden_layer_sizes=(100, 80, 60, 40, 20, 10), learning_rate=invscaling, max_iter=400;, score=0.866 total time= 2.6min\n",
      "[CV 3/5] END activation=logistic, hidden_layer_sizes=(100, 50, 25), learning_rate=adaptive, max_iter=400;, score=0.981 total time=12.2min\n",
      "[CV 4/5] END activation=logistic, hidden_layer_sizes=(100, 50, 25), learning_rate=adaptive, max_iter=400;, score=0.983 total time=12.1min\n",
      "[CV 1/5] END activation=logistic, hidden_layer_sizes=(100, 50, 25), learning_rate=adaptive, max_iter=800;, score=0.984 total time=11.7min\n",
      "[CV 3/5] END activation=logistic, hidden_layer_sizes=(100, 50, 25), learning_rate=adaptive, max_iter=800;, score=0.983 total time=10.2min\n",
      "[CV 4/5] END activation=logistic, hidden_layer_sizes=(100, 50, 25), learning_rate=adaptive, max_iter=1600;, score=0.984 total time=10.1min\n",
      "[CV 1/5] END activation=logistic, hidden_layer_sizes=(100, 80, 60, 40, 20, 10), learning_rate=invscaling, max_iter=800;, score=0.865 total time= 4.0min\n",
      "[CV 3/5] END activation=logistic, hidden_layer_sizes=(100, 50, 25), learning_rate=adaptive, max_iter=1600;, score=0.983 total time=10.5min\n",
      "[CV 2/5] END activation=logistic, hidden_layer_sizes=(100, 80, 60, 40, 20, 10), learning_rate=invscaling, max_iter=800;, score=0.865 total time= 3.0min\n",
      "[CV 2/5] END activation=logistic, hidden_layer_sizes=(100, 50, 25), learning_rate=adaptive, max_iter=800;, score=0.987 total time=12.7min\n",
      "[CV 5/5] END activation=logistic, hidden_layer_sizes=(100, 80, 60, 40, 20, 10), learning_rate=invscaling, max_iter=800;, score=0.866 total time= 2.7min\n",
      "[CV 3/5] END activation=logistic, hidden_layer_sizes=(100, 80, 60, 40, 20, 10), learning_rate=invscaling, max_iter=800;, score=0.866 total time= 3.3min\n",
      "[CV 1/5] END activation=logistic, hidden_layer_sizes=(100, 80, 60, 40, 20, 10), learning_rate=invscaling, max_iter=1600;, score=0.865 total time= 3.0min\n",
      "[CV 4/5] END activation=logistic, hidden_layer_sizes=(100, 50, 25), learning_rate=adaptive, max_iter=800;, score=0.983 total time=11.9min\n",
      "[CV 4/5] END activation=logistic, hidden_layer_sizes=(100, 80, 60, 40, 20, 10), learning_rate=invscaling, max_iter=800;, score=0.866 total time= 3.6min\n",
      "[CV 5/5] END activation=logistic, hidden_layer_sizes=(100, 50, 25), learning_rate=adaptive, max_iter=1600;, score=0.983 total time=10.8min\n",
      "[CV 5/5] END activation=logistic, hidden_layer_sizes=(100, 50, 25), learning_rate=adaptive, max_iter=800;, score=0.984 total time=12.5min\n",
      "[CV 3/5] END activation=logistic, hidden_layer_sizes=(100, 80, 60, 40, 20, 10), learning_rate=adaptive, max_iter=400;, score=0.866 total time= 2.2min\n",
      "[CV 2/5] END activation=logistic, hidden_layer_sizes=(100, 50, 25), learning_rate=adaptive, max_iter=1600;, score=0.987 total time=13.4min\n",
      "[CV 3/5] END activation=logistic, hidden_layer_sizes=(100, 80, 60, 40, 20, 10), learning_rate=invscaling, max_iter=1600;, score=0.866 total time= 3.7min\n",
      "[CV 5/5] END activation=logistic, hidden_layer_sizes=(100, 80, 60, 40, 20, 10), learning_rate=invscaling, max_iter=1600;, score=0.866 total time= 3.3min\n",
      "[CV 1/5] END activation=logistic, hidden_layer_sizes=(100, 80, 60, 40, 20, 10), learning_rate=adaptive, max_iter=400;, score=0.865 total time= 3.2min\n",
      "[CV 2/5] END activation=logistic, hidden_layer_sizes=(100, 80, 60, 40, 20, 10), learning_rate=invscaling, max_iter=1600;, score=0.865 total time= 4.5min\n",
      "[CV 4/5] END activation=logistic, hidden_layer_sizes=(100, 80, 60, 40, 20, 10), learning_rate=invscaling, max_iter=1600;, score=0.866 total time= 4.9min\n",
      "[CV 4/5] END activation=logistic, hidden_layer_sizes=(100, 80, 60, 40, 20, 10), learning_rate=adaptive, max_iter=400;, score=0.866 total time= 4.0min\n",
      "[CV 1/5] END activation=logistic, hidden_layer_sizes=(100, 50, 25), learning_rate=adaptive, max_iter=1600;, score=0.985 total time=15.2min\n",
      "[CV 4/5] END activation=logistic, hidden_layer_sizes=(100, 80, 60, 40, 20, 10), learning_rate=adaptive, max_iter=800;, score=0.866 total time= 3.1min\n",
      "[CV 5/5] END activation=logistic, hidden_layer_sizes=(100, 80, 60, 40, 20, 10), learning_rate=adaptive, max_iter=800;, score=0.866 total time= 2.8min\n",
      "[CV 1/5] END activation=logistic, hidden_layer_sizes=(100, 80, 60, 40, 20, 10), learning_rate=adaptive, max_iter=800;, score=0.865 total time= 4.2min\n",
      "[CV 5/5] END activation=logistic, hidden_layer_sizes=(100, 80, 60, 40, 20, 10), learning_rate=adaptive, max_iter=400;, score=0.866 total time= 4.5min\n",
      "[CV 2/5] END activation=logistic, hidden_layer_sizes=(100, 80, 60, 40, 20, 10), learning_rate=adaptive, max_iter=400;, score=0.865 total time= 5.2min\n",
      "[CV 1/5] END activation=logistic, hidden_layer_sizes=(100, 80, 60, 40, 20, 10), learning_rate=adaptive, max_iter=1600;, score=0.865 total time= 3.0min\n",
      "[CV 2/5] END activation=logistic, hidden_layer_sizes=(100, 80, 60, 40, 20, 10), learning_rate=adaptive, max_iter=1600;, score=0.865 total time= 2.9min\n",
      "[CV 3/5] END activation=logistic, hidden_layer_sizes=(100, 80, 60, 40, 20, 10), learning_rate=adaptive, max_iter=800;, score=0.866 total time= 4.7min\n",
      "[CV 2/5] END activation=logistic, hidden_layer_sizes=(100, 80, 60, 40, 20, 10), learning_rate=adaptive, max_iter=800;, score=0.865 total time= 5.0min\n",
      "[CV 5/5] END activation=logistic, hidden_layer_sizes=(100, 80, 60, 40, 20, 10), learning_rate=adaptive, max_iter=1600;, score=0.866 total time= 3.7min\n",
      "[CV 3/5] END activation=logistic, hidden_layer_sizes=(100, 80, 60, 40, 20, 10), learning_rate=adaptive, max_iter=1600;, score=0.866 total time= 4.1min\n",
      "[CV 4/5] END activation=logistic, hidden_layer_sizes=(100, 80, 60, 40, 20, 10), learning_rate=adaptive, max_iter=1600;, score=0.866 total time= 6.6min\n",
      "[CV 1/5] END activation=tanh, hidden_layer_sizes=100, learning_rate=invscaling, max_iter=400;, score=0.986 total time= 6.4min\n",
      "[CV 5/5] END activation=tanh, hidden_layer_sizes=100, learning_rate=invscaling, max_iter=400;, score=0.983 total time= 6.4min\n",
      "[CV 3/5] END activation=tanh, hidden_layer_sizes=100, learning_rate=invscaling, max_iter=400;, score=0.982 total time= 6.5min\n",
      "[CV 2/5] END activation=tanh, hidden_layer_sizes=100, learning_rate=invscaling, max_iter=400;, score=0.982 total time= 6.6min\n",
      "[CV 4/5] END activation=tanh, hidden_layer_sizes=100, learning_rate=invscaling, max_iter=400;, score=0.983 total time= 6.6min\n",
      "[CV 1/5] END activation=tanh, hidden_layer_sizes=100, learning_rate=invscaling, max_iter=800;, score=0.984 total time= 6.8min\n",
      "[CV 3/5] END activation=tanh, hidden_layer_sizes=100, learning_rate=invscaling, max_iter=800;, score=0.982 total time= 6.3min\n",
      "[CV 2/5] END activation=tanh, hidden_layer_sizes=100, learning_rate=invscaling, max_iter=800;, score=0.981 total time= 6.5min\n",
      "[CV 4/5] END activation=tanh, hidden_layer_sizes=100, learning_rate=invscaling, max_iter=800;, score=0.979 total time= 6.5min\n",
      "[CV 5/5] END activation=tanh, hidden_layer_sizes=100, learning_rate=invscaling, max_iter=800;, score=0.982 total time= 6.3min\n",
      "[CV 1/5] END activation=tanh, hidden_layer_sizes=100, learning_rate=invscaling, max_iter=1600;, score=0.986 total time= 6.5min\n",
      "[CV 3/5] END activation=tanh, hidden_layer_sizes=100, learning_rate=invscaling, max_iter=1600;, score=0.982 total time= 6.3min\n",
      "[CV 2/5] END activation=tanh, hidden_layer_sizes=100, learning_rate=invscaling, max_iter=1600;, score=0.983 total time= 6.8min\n",
      "[CV 5/5] END activation=tanh, hidden_layer_sizes=100, learning_rate=invscaling, max_iter=1600;, score=0.982 total time= 6.4min\n",
      "[CV 4/5] END activation=tanh, hidden_layer_sizes=100, learning_rate=invscaling, max_iter=1600;, score=0.983 total time= 6.5min\n",
      "[CV 1/5] END activation=tanh, hidden_layer_sizes=100, learning_rate=adaptive, max_iter=400;, score=0.986 total time= 6.7min\n",
      "[CV 2/5] END activation=tanh, hidden_layer_sizes=100, learning_rate=adaptive, max_iter=400;, score=0.982 total time= 6.7min\n",
      "[CV 1/5] END activation=tanh, hidden_layer_sizes=(100, 50, 25), learning_rate=invscaling, max_iter=400;, score=0.987 total time= 3.5min\n",
      "[CV 3/5] END activation=tanh, hidden_layer_sizes=100, learning_rate=adaptive, max_iter=400;, score=0.982 total time= 6.2min\n",
      "[CV 1/5] END activation=tanh, hidden_layer_sizes=100, learning_rate=adaptive, max_iter=800;, score=0.986 total time= 6.3min\n",
      "[CV 5/5] END activation=tanh, hidden_layer_sizes=100, learning_rate=adaptive, max_iter=400;, score=0.983 total time= 6.5min\n",
      "[CV 4/5] END activation=tanh, hidden_layer_sizes=100, learning_rate=adaptive, max_iter=400;, score=0.982 total time= 6.5min\n",
      "[CV 3/5] END activation=tanh, hidden_layer_sizes=100, learning_rate=adaptive, max_iter=800;, score=0.983 total time= 6.1min\n",
      "[CV 4/5] END activation=tanh, hidden_layer_sizes=100, learning_rate=adaptive, max_iter=800;, score=0.982 total time= 6.3min\n",
      "[CV 2/5] END activation=tanh, hidden_layer_sizes=100, learning_rate=adaptive, max_iter=800;, score=0.985 total time= 6.6min\n",
      "[CV 5/5] END activation=tanh, hidden_layer_sizes=100, learning_rate=adaptive, max_iter=800;, score=0.982 total time= 6.3min\n",
      "[CV 1/5] END activation=tanh, hidden_layer_sizes=100, learning_rate=adaptive, max_iter=1600;, score=0.984 total time= 6.5min\n",
      "[CV 3/5] END activation=tanh, hidden_layer_sizes=100, learning_rate=adaptive, max_iter=1600;, score=0.982 total time= 6.4min\n",
      "[CV 2/5] END activation=tanh, hidden_layer_sizes=100, learning_rate=adaptive, max_iter=1600;, score=0.982 total time= 6.7min\n",
      "[CV 4/5] END activation=tanh, hidden_layer_sizes=100, learning_rate=adaptive, max_iter=1600;, score=0.983 total time= 6.4min\n",
      "[CV 5/5] END activation=tanh, hidden_layer_sizes=100, learning_rate=adaptive, max_iter=1600;, score=0.982 total time= 6.3min\n",
      "[CV 2/5] END activation=tanh, hidden_layer_sizes=(100, 50, 25), learning_rate=invscaling, max_iter=400;, score=0.986 total time= 3.7min\n",
      "[CV 3/5] END activation=tanh, hidden_layer_sizes=(100, 50, 25), learning_rate=invscaling, max_iter=400;, score=0.983 total time= 3.4min\n",
      "[CV 4/5] END activation=tanh, hidden_layer_sizes=(100, 50, 25), learning_rate=invscaling, max_iter=400;, score=0.979 total time= 3.6min\n",
      "[CV 5/5] END activation=tanh, hidden_layer_sizes=(100, 50, 25), learning_rate=invscaling, max_iter=400;, score=0.983 total time= 3.5min\n",
      "[CV 1/5] END activation=tanh, hidden_layer_sizes=(100, 50, 25), learning_rate=invscaling, max_iter=800;, score=0.987 total time= 3.5min\n",
      "[CV 3/5] END activation=tanh, hidden_layer_sizes=(100, 50, 25), learning_rate=invscaling, max_iter=800;, score=0.982 total time= 3.5min\n",
      "[CV 4/5] END activation=tanh, hidden_layer_sizes=(100, 50, 25), learning_rate=invscaling, max_iter=800;, score=0.981 total time= 3.5min\n",
      "[CV 5/5] END activation=tanh, hidden_layer_sizes=(100, 50, 25), learning_rate=invscaling, max_iter=800;, score=0.984 total time= 3.3min\n",
      "[CV 2/5] END activation=tanh, hidden_layer_sizes=(100, 50, 25), learning_rate=invscaling, max_iter=800;, score=0.984 total time= 3.8min\n",
      "[CV 1/5] END activation=tanh, hidden_layer_sizes=(100, 50, 25), learning_rate=invscaling, max_iter=1600;, score=0.988 total time= 3.5min\n",
      "[CV 2/5] END activation=tanh, hidden_layer_sizes=(100, 50, 25), learning_rate=invscaling, max_iter=1600;, score=0.987 total time= 3.8min\n",
      "[CV 3/5] END activation=tanh, hidden_layer_sizes=(100, 50, 25), learning_rate=invscaling, max_iter=1600;, score=0.982 total time= 3.6min\n",
      "[CV 4/5] END activation=tanh, hidden_layer_sizes=(100, 50, 25), learning_rate=invscaling, max_iter=1600;, score=0.980 total time= 3.5min\n",
      "[CV 5/5] END activation=tanh, hidden_layer_sizes=(100, 50, 25), learning_rate=invscaling, max_iter=1600;, score=0.983 total time= 3.6min\n",
      "[CV 1/5] END activation=tanh, hidden_layer_sizes=(100, 50, 25), learning_rate=adaptive, max_iter=400;, score=0.984 total time= 3.7min\n",
      "[CV 4/5] END activation=tanh, hidden_layer_sizes=(100, 50, 25), learning_rate=adaptive, max_iter=400;, score=0.980 total time= 3.2min\n",
      "[CV 2/5] END activation=tanh, hidden_layer_sizes=(100, 50, 25), learning_rate=adaptive, max_iter=400;, score=0.985 total time= 3.8min\n",
      "[CV 3/5] END activation=tanh, hidden_layer_sizes=(100, 50, 25), learning_rate=adaptive, max_iter=400;, score=0.982 total time= 3.5min\n",
      "[CV 5/5] END activation=tanh, hidden_layer_sizes=(100, 50, 25), learning_rate=adaptive, max_iter=400;, score=0.984 total time= 3.4min\n",
      "[CV 1/5] END activation=tanh, hidden_layer_sizes=(100, 50, 25), learning_rate=adaptive, max_iter=800;, score=0.985 total time= 3.5min\n",
      "[CV 4/5] END activation=tanh, hidden_layer_sizes=(100, 50, 25), learning_rate=adaptive, max_iter=800;, score=0.983 total time= 3.3min\n",
      "[CV 5/5] END activation=tanh, hidden_layer_sizes=(100, 50, 25), learning_rate=adaptive, max_iter=800;, score=0.984 total time= 3.3min\n",
      "[CV 3/5] END activation=tanh, hidden_layer_sizes=(100, 50, 25), learning_rate=adaptive, max_iter=800;, score=0.983 total time= 3.7min\n",
      "[CV 1/5] END activation=tanh, hidden_layer_sizes=(100, 50, 25), learning_rate=adaptive, max_iter=1600;, score=0.987 total time= 3.4min\n",
      "[CV 2/5] END activation=tanh, hidden_layer_sizes=(100, 50, 25), learning_rate=adaptive, max_iter=800;, score=0.982 total time= 3.9min\n",
      "[CV 2/5] END activation=tanh, hidden_layer_sizes=(100, 50, 25), learning_rate=adaptive, max_iter=1600;, score=0.985 total time= 3.6min\n",
      "[CV 3/5] END activation=tanh, hidden_layer_sizes=(100, 50, 25), learning_rate=adaptive, max_iter=1600;, score=0.982 total time= 3.3min\n",
      "[CV 4/5] END activation=tanh, hidden_layer_sizes=(100, 50, 25), learning_rate=adaptive, max_iter=1600;, score=0.984 total time= 3.4min\n",
      "[CV 5/5] END activation=tanh, hidden_layer_sizes=(100, 50, 25), learning_rate=adaptive, max_iter=1600;, score=0.984 total time= 3.5min\n",
      "[CV 3/5] END activation=tanh, hidden_layer_sizes=(100, 80, 60, 40, 20, 10), learning_rate=invscaling, max_iter=400;, score=0.982 total time= 4.8min\n",
      "[CV 1/5] END activation=tanh, hidden_layer_sizes=(100, 80, 60, 40, 20, 10), learning_rate=invscaling, max_iter=400;, score=0.988 total time= 5.7min\n",
      "[CV 3/5] END activation=tanh, hidden_layer_sizes=(100, 80, 60, 40, 20, 10), learning_rate=invscaling, max_iter=800;, score=0.983 total time= 5.0min\n",
      "[CV 5/5] END activation=tanh, hidden_layer_sizes=(100, 80, 60, 40, 20, 10), learning_rate=invscaling, max_iter=400;, score=0.983 total time= 6.0min\n",
      "[CV 4/5] END activation=tanh, hidden_layer_sizes=(100, 80, 60, 40, 20, 10), learning_rate=invscaling, max_iter=800;, score=0.983 total time= 5.4min\n",
      "[CV 2/5] END activation=tanh, hidden_layer_sizes=(100, 80, 60, 40, 20, 10), learning_rate=invscaling, max_iter=1600;, score=0.984 total time= 5.3min\n",
      "[CV 1/5] END activation=tanh, hidden_layer_sizes=(100, 80, 60, 40, 20, 10), learning_rate=invscaling, max_iter=1600;, score=0.987 total time= 5.7min\n",
      "[CV 2/5] END activation=tanh, hidden_layer_sizes=(100, 80, 60, 40, 20, 10), learning_rate=invscaling, max_iter=400;, score=0.987 total time= 7.8min\n",
      "[CV 5/5] END activation=tanh, hidden_layer_sizes=(100, 80, 60, 40, 20, 10), learning_rate=invscaling, max_iter=800;, score=0.984 total time= 6.0min\n",
      "[CV 1/5] END activation=tanh, hidden_layer_sizes=(100, 80, 60, 40, 20, 10), learning_rate=invscaling, max_iter=800;, score=0.987 total time= 6.9min\n",
      "[CV 2/5] END activation=tanh, hidden_layer_sizes=(100, 80, 60, 40, 20, 10), learning_rate=invscaling, max_iter=800;, score=0.986 total time= 6.9min\n",
      "[CV 3/5] END activation=tanh, hidden_layer_sizes=(100, 80, 60, 40, 20, 10), learning_rate=invscaling, max_iter=1600;, score=0.981 total time= 6.1min\n",
      "[CV 4/5] END activation=tanh, hidden_layer_sizes=(100, 80, 60, 40, 20, 10), learning_rate=invscaling, max_iter=400;, score=0.982 total time= 7.8min\n",
      "[CV 4/5] END activation=tanh, hidden_layer_sizes=(100, 80, 60, 40, 20, 10), learning_rate=invscaling, max_iter=1600;, score=0.984 total time= 6.2min\n",
      "[CV 5/5] END activation=tanh, hidden_layer_sizes=(100, 80, 60, 40, 20, 10), learning_rate=invscaling, max_iter=1600;, score=0.983 total time= 6.3min\n",
      "[CV 1/5] END activation=tanh, hidden_layer_sizes=(100, 80, 60, 40, 20, 10), learning_rate=adaptive, max_iter=400;, score=0.987 total time= 6.1min\n",
      "[CV 2/5] END activation=tanh, hidden_layer_sizes=(100, 80, 60, 40, 20, 10), learning_rate=adaptive, max_iter=400;, score=0.986 total time= 5.3min\n",
      "[CV 3/5] END activation=tanh, hidden_layer_sizes=(100, 80, 60, 40, 20, 10), learning_rate=adaptive, max_iter=400;, score=0.982 total time= 5.3min\n",
      "[CV 4/5] END activation=tanh, hidden_layer_sizes=(100, 80, 60, 40, 20, 10), learning_rate=adaptive, max_iter=400;, score=0.983 total time= 4.6min\n",
      "[CV 3/5] END activation=tanh, hidden_layer_sizes=(100, 80, 60, 40, 20, 10), learning_rate=adaptive, max_iter=800;, score=0.982 total time= 4.0min\n",
      "[CV 1/5] END activation=tanh, hidden_layer_sizes=(100, 80, 60, 40, 20, 10), learning_rate=adaptive, max_iter=800;, score=0.987 total time= 4.6min\n",
      "[CV 1/5] END activation=tanh, hidden_layer_sizes=(100, 80, 60, 40, 20, 10), learning_rate=adaptive, max_iter=1600;, score=0.987 total time= 3.8min\n",
      "[CV 5/5] END activation=tanh, hidden_layer_sizes=(100, 80, 60, 40, 20, 10), learning_rate=adaptive, max_iter=800;, score=0.982 total time= 4.1min\n",
      "[CV 2/5] END activation=tanh, hidden_layer_sizes=(100, 80, 60, 40, 20, 10), learning_rate=adaptive, max_iter=800;, score=0.987 total time= 4.8min\n",
      "[CV 5/5] END activation=tanh, hidden_layer_sizes=(100, 80, 60, 40, 20, 10), learning_rate=adaptive, max_iter=1600;, score=0.983 total time= 3.7min\n",
      "[CV 2/5] END activation=tanh, hidden_layer_sizes=(100, 80, 60, 40, 20, 10), learning_rate=adaptive, max_iter=1600;, score=0.986 total time= 4.1min\n",
      "[CV 4/5] END activation=tanh, hidden_layer_sizes=(100, 80, 60, 40, 20, 10), learning_rate=adaptive, max_iter=800;, score=0.981 total time= 4.6min\n",
      "[CV 3/5] END activation=tanh, hidden_layer_sizes=(100, 80, 60, 40, 20, 10), learning_rate=adaptive, max_iter=1600;, score=0.981 total time= 4.2min\n",
      "[CV 5/5] END activation=tanh, hidden_layer_sizes=(100, 80, 60, 40, 20, 10), learning_rate=adaptive, max_iter=400;, score=0.982 total time= 5.9min\n",
      "[CV 4/5] END activation=tanh, hidden_layer_sizes=(100, 80, 60, 40, 20, 10), learning_rate=adaptive, max_iter=1600;, score=0.984 total time= 4.1min\n",
      "best score 0.9856416903494859\n",
      "best params {'activation': 'relu', 'hidden_layer_sizes': (100, 50, 25), 'learning_rate': 'invscaling', 'max_iter': 400}\n"
     ]
    }
   ],
   "source": [
    "params = {\n",
    "    'activation': ('relu', 'identity', 'logistic', 'tanh'),\n",
    "    'hidden_layer_sizes': ((100), (100, 50, 25), (100, 80, 60, 40, 20, 10)),\n",
    "    'learning_rate': ('invscaling', 'adaptive', 'constant'),\n",
    "    'max_iter': (400, 800, 1600)\n",
    "}\n",
    "mlp_gs = GridSearchCV(mlp, params, n_jobs=-1, verbose=4)\n",
    "mlp_gs = mlp_gs.fit(X, t)\n",
    "print(\"best score\", mlp_gs.best_score_)\n",
    "print(\"best params\", mlp_gs.best_params_)"
   ]
  },
  {
   "cell_type": "code",
   "execution_count": null,
   "metadata": {},
   "outputs": [],
   "source": []
  }
 ],
 "metadata": {
  "interpreter": {
   "hash": "e7370f93d1d0cde622a1f8e1c04877d8463912d04d973331ad4851f04de6915a"
  },
  "kernelspec": {
   "display_name": "Python 3 (ipykernel)",
   "language": "python",
   "name": "python3"
  },
  "language_info": {
   "codemirror_mode": {
    "name": "ipython",
    "version": 3
   },
   "file_extension": ".py",
   "mimetype": "text/x-python",
   "name": "python",
   "nbconvert_exporter": "python",
   "pygments_lexer": "ipython3",
   "version": "3.9.9"
  }
 },
 "nbformat": 4,
 "nbformat_minor": 2
}
